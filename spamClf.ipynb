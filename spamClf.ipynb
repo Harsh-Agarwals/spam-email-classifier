{
 "cells": [
  {
   "cell_type": "code",
   "execution_count": 1,
   "id": "14b06c85",
   "metadata": {},
   "outputs": [],
   "source": [
    "import numpy as np\n",
    "import pandas as pd\n",
    "import matplotlib.pyplot as plt\n",
    "import seaborn as sns\n",
    "\n",
    "%matplotlib inline"
   ]
  },
  {
   "cell_type": "code",
   "execution_count": 2,
   "id": "47feb1f5",
   "metadata": {},
   "outputs": [],
   "source": [
    "import warnings\n",
    "warnings.filterwarnings('ignore')"
   ]
  },
  {
   "cell_type": "code",
   "execution_count": 3,
   "id": "d34cf1e0",
   "metadata": {},
   "outputs": [
    {
     "data": {
      "text/html": [
       "<div>\n",
       "<style scoped>\n",
       "    .dataframe tbody tr th:only-of-type {\n",
       "        vertical-align: middle;\n",
       "    }\n",
       "\n",
       "    .dataframe tbody tr th {\n",
       "        vertical-align: top;\n",
       "    }\n",
       "\n",
       "    .dataframe thead th {\n",
       "        text-align: right;\n",
       "    }\n",
       "</style>\n",
       "<table border=\"1\" class=\"dataframe\">\n",
       "  <thead>\n",
       "    <tr style=\"text-align: right;\">\n",
       "      <th></th>\n",
       "      <th>Unnamed: 0</th>\n",
       "      <th>label</th>\n",
       "      <th>text</th>\n",
       "      <th>label_num</th>\n",
       "    </tr>\n",
       "  </thead>\n",
       "  <tbody>\n",
       "    <tr>\n",
       "      <th>0</th>\n",
       "      <td>605</td>\n",
       "      <td>ham</td>\n",
       "      <td>Subject: enron methanol ; meter # : 988291\\r\\n...</td>\n",
       "      <td>0</td>\n",
       "    </tr>\n",
       "    <tr>\n",
       "      <th>1</th>\n",
       "      <td>2349</td>\n",
       "      <td>ham</td>\n",
       "      <td>Subject: hpl nom for january 9 , 2001\\r\\n( see...</td>\n",
       "      <td>0</td>\n",
       "    </tr>\n",
       "    <tr>\n",
       "      <th>2</th>\n",
       "      <td>3624</td>\n",
       "      <td>ham</td>\n",
       "      <td>Subject: neon retreat\\r\\nho ho ho , we ' re ar...</td>\n",
       "      <td>0</td>\n",
       "    </tr>\n",
       "    <tr>\n",
       "      <th>3</th>\n",
       "      <td>4685</td>\n",
       "      <td>spam</td>\n",
       "      <td>Subject: photoshop , windows , office . cheap ...</td>\n",
       "      <td>1</td>\n",
       "    </tr>\n",
       "    <tr>\n",
       "      <th>4</th>\n",
       "      <td>2030</td>\n",
       "      <td>ham</td>\n",
       "      <td>Subject: re : indian springs\\r\\nthis deal is t...</td>\n",
       "      <td>0</td>\n",
       "    </tr>\n",
       "  </tbody>\n",
       "</table>\n",
       "</div>"
      ],
      "text/plain": [
       "   Unnamed: 0 label                                               text  \\\n",
       "0         605   ham  Subject: enron methanol ; meter # : 988291\\r\\n...   \n",
       "1        2349   ham  Subject: hpl nom for january 9 , 2001\\r\\n( see...   \n",
       "2        3624   ham  Subject: neon retreat\\r\\nho ho ho , we ' re ar...   \n",
       "3        4685  spam  Subject: photoshop , windows , office . cheap ...   \n",
       "4        2030   ham  Subject: re : indian springs\\r\\nthis deal is t...   \n",
       "\n",
       "   label_num  \n",
       "0          0  \n",
       "1          0  \n",
       "2          0  \n",
       "3          1  \n",
       "4          0  "
      ]
     },
     "execution_count": 3,
     "metadata": {},
     "output_type": "execute_result"
    }
   ],
   "source": [
    "df = pd.read_csv('spam_ham_dataset.csv')\n",
    "df.head()"
   ]
  },
  {
   "cell_type": "code",
   "execution_count": 4,
   "id": "3d53b117",
   "metadata": {},
   "outputs": [
    {
     "name": "stdout",
     "output_type": "stream",
     "text": [
      "<class 'pandas.core.frame.DataFrame'>\n",
      "RangeIndex: 5171 entries, 0 to 5170\n",
      "Data columns (total 4 columns):\n",
      " #   Column      Non-Null Count  Dtype \n",
      "---  ------      --------------  ----- \n",
      " 0   Unnamed: 0  5171 non-null   int64 \n",
      " 1   label       5171 non-null   object\n",
      " 2   text        5171 non-null   object\n",
      " 3   label_num   5171 non-null   int64 \n",
      "dtypes: int64(2), object(2)\n",
      "memory usage: 161.7+ KB\n"
     ]
    }
   ],
   "source": [
    "df.info()"
   ]
  },
  {
   "cell_type": "code",
   "execution_count": 5,
   "id": "a93b5a9b",
   "metadata": {
    "scrolled": false
   },
   "outputs": [],
   "source": [
    "df.text = df.text.apply(lambda x: x.replace('\\r\\n', ' '))"
   ]
  },
  {
   "cell_type": "code",
   "execution_count": 6,
   "id": "0e33ccae",
   "metadata": {},
   "outputs": [],
   "source": [
    "df.text = df.text.apply(lambda x: x[9:])"
   ]
  },
  {
   "cell_type": "code",
   "execution_count": 7,
   "id": "c0ae2dfe",
   "metadata": {
    "scrolled": true
   },
   "outputs": [
    {
     "data": {
      "text/html": [
       "<div>\n",
       "<style scoped>\n",
       "    .dataframe tbody tr th:only-of-type {\n",
       "        vertical-align: middle;\n",
       "    }\n",
       "\n",
       "    .dataframe tbody tr th {\n",
       "        vertical-align: top;\n",
       "    }\n",
       "\n",
       "    .dataframe thead th {\n",
       "        text-align: right;\n",
       "    }\n",
       "</style>\n",
       "<table border=\"1\" class=\"dataframe\">\n",
       "  <thead>\n",
       "    <tr style=\"text-align: right;\">\n",
       "      <th></th>\n",
       "      <th>Unnamed: 0</th>\n",
       "      <th>label</th>\n",
       "      <th>text</th>\n",
       "      <th>label_num</th>\n",
       "    </tr>\n",
       "  </thead>\n",
       "  <tbody>\n",
       "    <tr>\n",
       "      <th>0</th>\n",
       "      <td>605</td>\n",
       "      <td>ham</td>\n",
       "      <td>enron methanol ; meter # : 988291 this is a fo...</td>\n",
       "      <td>0</td>\n",
       "    </tr>\n",
       "    <tr>\n",
       "      <th>1</th>\n",
       "      <td>2349</td>\n",
       "      <td>ham</td>\n",
       "      <td>hpl nom for january 9 , 2001 ( see attached fi...</td>\n",
       "      <td>0</td>\n",
       "    </tr>\n",
       "    <tr>\n",
       "      <th>2</th>\n",
       "      <td>3624</td>\n",
       "      <td>ham</td>\n",
       "      <td>neon retreat ho ho ho , we ' re around to that...</td>\n",
       "      <td>0</td>\n",
       "    </tr>\n",
       "    <tr>\n",
       "      <th>3</th>\n",
       "      <td>4685</td>\n",
       "      <td>spam</td>\n",
       "      <td>photoshop , windows , office . cheap . main tr...</td>\n",
       "      <td>1</td>\n",
       "    </tr>\n",
       "    <tr>\n",
       "      <th>4</th>\n",
       "      <td>2030</td>\n",
       "      <td>ham</td>\n",
       "      <td>re : indian springs this deal is to book the t...</td>\n",
       "      <td>0</td>\n",
       "    </tr>\n",
       "  </tbody>\n",
       "</table>\n",
       "</div>"
      ],
      "text/plain": [
       "   Unnamed: 0 label                                               text  \\\n",
       "0         605   ham  enron methanol ; meter # : 988291 this is a fo...   \n",
       "1        2349   ham  hpl nom for january 9 , 2001 ( see attached fi...   \n",
       "2        3624   ham  neon retreat ho ho ho , we ' re around to that...   \n",
       "3        4685  spam  photoshop , windows , office . cheap . main tr...   \n",
       "4        2030   ham  re : indian springs this deal is to book the t...   \n",
       "\n",
       "   label_num  \n",
       "0          0  \n",
       "1          0  \n",
       "2          0  \n",
       "3          1  \n",
       "4          0  "
      ]
     },
     "execution_count": 7,
     "metadata": {},
     "output_type": "execute_result"
    }
   ],
   "source": [
    "df.head()"
   ]
  },
  {
   "cell_type": "code",
   "execution_count": 8,
   "id": "9b23d483",
   "metadata": {},
   "outputs": [
    {
     "data": {
      "text/plain": [
       "(781, 161)"
      ]
     },
     "execution_count": 8,
     "metadata": {},
     "output_type": "execute_result"
    }
   ],
   "source": [
    "df.text.str.startswith('re : ').sum(), df.text.str.startswith('fw : ').sum()"
   ]
  },
  {
   "cell_type": "code",
   "execution_count": 9,
   "id": "959f46ef",
   "metadata": {
    "scrolled": true
   },
   "outputs": [
    {
     "data": {
      "text/html": [
       "<div>\n",
       "<style scoped>\n",
       "    .dataframe tbody tr th:only-of-type {\n",
       "        vertical-align: middle;\n",
       "    }\n",
       "\n",
       "    .dataframe tbody tr th {\n",
       "        vertical-align: top;\n",
       "    }\n",
       "\n",
       "    .dataframe thead th {\n",
       "        text-align: right;\n",
       "    }\n",
       "</style>\n",
       "<table border=\"1\" class=\"dataframe\">\n",
       "  <thead>\n",
       "    <tr style=\"text-align: right;\">\n",
       "      <th></th>\n",
       "      <th>Unnamed: 0</th>\n",
       "      <th>label</th>\n",
       "      <th>text</th>\n",
       "      <th>label_num</th>\n",
       "    </tr>\n",
       "  </thead>\n",
       "  <tbody>\n",
       "    <tr>\n",
       "      <th>4</th>\n",
       "      <td>2030</td>\n",
       "      <td>ham</td>\n",
       "      <td>re : indian springs this deal is to book the t...</td>\n",
       "      <td>0</td>\n",
       "    </tr>\n",
       "    <tr>\n",
       "      <th>16</th>\n",
       "      <td>2643</td>\n",
       "      <td>ham</td>\n",
       "      <td>re : first delivery - wheeler operating vance ...</td>\n",
       "      <td>0</td>\n",
       "    </tr>\n",
       "    <tr>\n",
       "      <th>23</th>\n",
       "      <td>2221</td>\n",
       "      <td>ham</td>\n",
       "      <td>re : tenaska iv 10 / 00 we have received all o...</td>\n",
       "      <td>0</td>\n",
       "    </tr>\n",
       "    <tr>\n",
       "      <th>25</th>\n",
       "      <td>1811</td>\n",
       "      <td>ham</td>\n",
       "      <td>re : enron / hpl actuals for october 11 , 2000...</td>\n",
       "      <td>0</td>\n",
       "    </tr>\n",
       "    <tr>\n",
       "      <th>29</th>\n",
       "      <td>441</td>\n",
       "      <td>ham</td>\n",
       "      <td>re : valero gas marketing ; meter # : 8018 / s...</td>\n",
       "      <td>0</td>\n",
       "    </tr>\n",
       "  </tbody>\n",
       "</table>\n",
       "</div>"
      ],
      "text/plain": [
       "    Unnamed: 0 label                                               text  \\\n",
       "4         2030   ham  re : indian springs this deal is to book the t...   \n",
       "16        2643   ham  re : first delivery - wheeler operating vance ...   \n",
       "23        2221   ham  re : tenaska iv 10 / 00 we have received all o...   \n",
       "25        1811   ham  re : enron / hpl actuals for october 11 , 2000...   \n",
       "29         441   ham  re : valero gas marketing ; meter # : 8018 / s...   \n",
       "\n",
       "    label_num  \n",
       "4           0  \n",
       "16          0  \n",
       "23          0  \n",
       "25          0  \n",
       "29          0  "
      ]
     },
     "execution_count": 9,
     "metadata": {},
     "output_type": "execute_result"
    }
   ],
   "source": [
    "df[df.text.str.startswith('re : ')].head()"
   ]
  },
  {
   "cell_type": "code",
   "execution_count": 10,
   "id": "d000c6ac",
   "metadata": {
    "scrolled": false
   },
   "outputs": [
    {
     "data": {
      "text/plain": [
       "Int64Index([   4,   16,   23,   25,   29,   33,   44,   45,   54,   56,\n",
       "            ...\n",
       "            5108, 5109, 5110, 5130, 5138, 5139, 5140, 5145, 5154, 5163],\n",
       "           dtype='int64', length=781)"
      ]
     },
     "execution_count": 10,
     "metadata": {},
     "output_type": "execute_result"
    }
   ],
   "source": [
    "df[df.text.str.startswith('re : ')].index"
   ]
  },
  {
   "cell_type": "code",
   "execution_count": 11,
   "id": "74d61c59",
   "metadata": {},
   "outputs": [],
   "source": [
    "def startRemove(word):\n",
    "    l = len(word)\n",
    "    if df.text.str.startswith(word).sum() > 0:\n",
    "        df.iloc[df[df.text.str.startswith(word)].index, 2] = df.iloc[df[df.text.str.startswith(word)].index, 2].apply(lambda x: x[l:])"
   ]
  },
  {
   "cell_type": "code",
   "execution_count": 12,
   "id": "2ecda669",
   "metadata": {},
   "outputs": [],
   "source": [
    "startRemove('re : ')"
   ]
  },
  {
   "cell_type": "code",
   "execution_count": 13,
   "id": "8622bdf2",
   "metadata": {},
   "outputs": [
    {
     "data": {
      "text/html": [
       "<div>\n",
       "<style scoped>\n",
       "    .dataframe tbody tr th:only-of-type {\n",
       "        vertical-align: middle;\n",
       "    }\n",
       "\n",
       "    .dataframe tbody tr th {\n",
       "        vertical-align: top;\n",
       "    }\n",
       "\n",
       "    .dataframe thead th {\n",
       "        text-align: right;\n",
       "    }\n",
       "</style>\n",
       "<table border=\"1\" class=\"dataframe\">\n",
       "  <thead>\n",
       "    <tr style=\"text-align: right;\">\n",
       "      <th></th>\n",
       "      <th>Unnamed: 0</th>\n",
       "      <th>label</th>\n",
       "      <th>text</th>\n",
       "      <th>label_num</th>\n",
       "    </tr>\n",
       "  </thead>\n",
       "  <tbody>\n",
       "    <tr>\n",
       "      <th>0</th>\n",
       "      <td>605</td>\n",
       "      <td>ham</td>\n",
       "      <td>enron methanol ; meter # : 988291 this is a fo...</td>\n",
       "      <td>0</td>\n",
       "    </tr>\n",
       "    <tr>\n",
       "      <th>1</th>\n",
       "      <td>2349</td>\n",
       "      <td>ham</td>\n",
       "      <td>hpl nom for january 9 , 2001 ( see attached fi...</td>\n",
       "      <td>0</td>\n",
       "    </tr>\n",
       "    <tr>\n",
       "      <th>2</th>\n",
       "      <td>3624</td>\n",
       "      <td>ham</td>\n",
       "      <td>neon retreat ho ho ho , we ' re around to that...</td>\n",
       "      <td>0</td>\n",
       "    </tr>\n",
       "    <tr>\n",
       "      <th>3</th>\n",
       "      <td>4685</td>\n",
       "      <td>spam</td>\n",
       "      <td>photoshop , windows , office . cheap . main tr...</td>\n",
       "      <td>1</td>\n",
       "    </tr>\n",
       "    <tr>\n",
       "      <th>4</th>\n",
       "      <td>2030</td>\n",
       "      <td>ham</td>\n",
       "      <td>indian springs this deal is to book the teco p...</td>\n",
       "      <td>0</td>\n",
       "    </tr>\n",
       "  </tbody>\n",
       "</table>\n",
       "</div>"
      ],
      "text/plain": [
       "   Unnamed: 0 label                                               text  \\\n",
       "0         605   ham  enron methanol ; meter # : 988291 this is a fo...   \n",
       "1        2349   ham  hpl nom for january 9 , 2001 ( see attached fi...   \n",
       "2        3624   ham  neon retreat ho ho ho , we ' re around to that...   \n",
       "3        4685  spam  photoshop , windows , office . cheap . main tr...   \n",
       "4        2030   ham  indian springs this deal is to book the teco p...   \n",
       "\n",
       "   label_num  \n",
       "0          0  \n",
       "1          0  \n",
       "2          0  \n",
       "3          1  \n",
       "4          0  "
      ]
     },
     "execution_count": 13,
     "metadata": {},
     "output_type": "execute_result"
    }
   ],
   "source": [
    "df.head()"
   ]
  },
  {
   "cell_type": "code",
   "execution_count": 14,
   "id": "268c1189",
   "metadata": {
    "scrolled": true
   },
   "outputs": [
    {
     "data": {
      "text/html": [
       "<div>\n",
       "<style scoped>\n",
       "    .dataframe tbody tr th:only-of-type {\n",
       "        vertical-align: middle;\n",
       "    }\n",
       "\n",
       "    .dataframe tbody tr th {\n",
       "        vertical-align: top;\n",
       "    }\n",
       "\n",
       "    .dataframe thead th {\n",
       "        text-align: right;\n",
       "    }\n",
       "</style>\n",
       "<table border=\"1\" class=\"dataframe\">\n",
       "  <thead>\n",
       "    <tr style=\"text-align: right;\">\n",
       "      <th></th>\n",
       "      <th>Unnamed: 0</th>\n",
       "      <th>label</th>\n",
       "      <th>text</th>\n",
       "      <th>label_num</th>\n",
       "    </tr>\n",
       "  </thead>\n",
       "  <tbody>\n",
       "    <tr>\n",
       "      <th>1057</th>\n",
       "      <td>3830</td>\n",
       "      <td>spam</td>\n",
       "      <td>re : re : your document please read the attach...</td>\n",
       "      <td>1</td>\n",
       "    </tr>\n",
       "  </tbody>\n",
       "</table>\n",
       "</div>"
      ],
      "text/plain": [
       "      Unnamed: 0 label                                               text  \\\n",
       "1057        3830  spam  re : re : your document please read the attach...   \n",
       "\n",
       "      label_num  \n",
       "1057          1  "
      ]
     },
     "execution_count": 14,
     "metadata": {},
     "output_type": "execute_result"
    }
   ],
   "source": [
    "df[df.text.str.startswith('re : ')].head()"
   ]
  },
  {
   "cell_type": "code",
   "execution_count": 15,
   "id": "121de9b9",
   "metadata": {
    "scrolled": true
   },
   "outputs": [],
   "source": [
    "df.iloc[1057, 2] = df.iloc[1057, 2][10:] # or startRemove('re : ')"
   ]
  },
  {
   "cell_type": "code",
   "execution_count": 16,
   "id": "7dda8326",
   "metadata": {},
   "outputs": [
    {
     "data": {
      "text/html": [
       "<div>\n",
       "<style scoped>\n",
       "    .dataframe tbody tr th:only-of-type {\n",
       "        vertical-align: middle;\n",
       "    }\n",
       "\n",
       "    .dataframe tbody tr th {\n",
       "        vertical-align: top;\n",
       "    }\n",
       "\n",
       "    .dataframe thead th {\n",
       "        text-align: right;\n",
       "    }\n",
       "</style>\n",
       "<table border=\"1\" class=\"dataframe\">\n",
       "  <thead>\n",
       "    <tr style=\"text-align: right;\">\n",
       "      <th></th>\n",
       "      <th>Unnamed: 0</th>\n",
       "      <th>label</th>\n",
       "      <th>text</th>\n",
       "      <th>label_num</th>\n",
       "    </tr>\n",
       "  </thead>\n",
       "  <tbody>\n",
       "  </tbody>\n",
       "</table>\n",
       "</div>"
      ],
      "text/plain": [
       "Empty DataFrame\n",
       "Columns: [Unnamed: 0, label, text, label_num]\n",
       "Index: []"
      ]
     },
     "execution_count": 16,
     "metadata": {},
     "output_type": "execute_result"
    }
   ],
   "source": [
    "df[df.text.str.startswith('re : ')]"
   ]
  },
  {
   "cell_type": "code",
   "execution_count": 17,
   "id": "3d7afe56",
   "metadata": {},
   "outputs": [],
   "source": [
    "startRemove('fw : ')"
   ]
  },
  {
   "cell_type": "code",
   "execution_count": 18,
   "id": "9eaa58a4",
   "metadata": {},
   "outputs": [
    {
     "data": {
      "text/html": [
       "<div>\n",
       "<style scoped>\n",
       "    .dataframe tbody tr th:only-of-type {\n",
       "        vertical-align: middle;\n",
       "    }\n",
       "\n",
       "    .dataframe tbody tr th {\n",
       "        vertical-align: top;\n",
       "    }\n",
       "\n",
       "    .dataframe thead th {\n",
       "        text-align: right;\n",
       "    }\n",
       "</style>\n",
       "<table border=\"1\" class=\"dataframe\">\n",
       "  <thead>\n",
       "    <tr style=\"text-align: right;\">\n",
       "      <th></th>\n",
       "      <th>Unnamed: 0</th>\n",
       "      <th>label</th>\n",
       "      <th>text</th>\n",
       "      <th>label_num</th>\n",
       "    </tr>\n",
       "  </thead>\n",
       "  <tbody>\n",
       "    <tr>\n",
       "      <th>49</th>\n",
       "      <td>577</td>\n",
       "      <td>ham</td>\n",
       "      <td>fw : gap gift certificates - - - - - original ...</td>\n",
       "      <td>0</td>\n",
       "    </tr>\n",
       "    <tr>\n",
       "      <th>140</th>\n",
       "      <td>3148</td>\n",
       "      <td>ham</td>\n",
       "      <td>fw : equistar 1373 for march daren - i won ' t...</td>\n",
       "      <td>0</td>\n",
       "    </tr>\n",
       "    <tr>\n",
       "      <th>424</th>\n",
       "      <td>3134</td>\n",
       "      <td>ham</td>\n",
       "      <td>fw : march 2001 invoice daren - dow hydrocarbo...</td>\n",
       "      <td>0</td>\n",
       "    </tr>\n",
       "    <tr>\n",
       "      <th>1442</th>\n",
       "      <td>3155</td>\n",
       "      <td>ham</td>\n",
       "      <td>fw : march 2001 invoice thanks mary ! daren , ...</td>\n",
       "      <td>0</td>\n",
       "    </tr>\n",
       "    <tr>\n",
       "      <th>1480</th>\n",
       "      <td>2143</td>\n",
       "      <td>ham</td>\n",
       "      <td>fw : fw : dance off to select the next preside...</td>\n",
       "      <td>0</td>\n",
       "    </tr>\n",
       "  </tbody>\n",
       "</table>\n",
       "</div>"
      ],
      "text/plain": [
       "      Unnamed: 0 label                                               text  \\\n",
       "49           577   ham  fw : gap gift certificates - - - - - original ...   \n",
       "140         3148   ham  fw : equistar 1373 for march daren - i won ' t...   \n",
       "424         3134   ham  fw : march 2001 invoice daren - dow hydrocarbo...   \n",
       "1442        3155   ham  fw : march 2001 invoice thanks mary ! daren , ...   \n",
       "1480        2143   ham  fw : fw : dance off to select the next preside...   \n",
       "\n",
       "      label_num  \n",
       "49            0  \n",
       "140           0  \n",
       "424           0  \n",
       "1442          0  \n",
       "1480          0  "
      ]
     },
     "execution_count": 18,
     "metadata": {},
     "output_type": "execute_result"
    }
   ],
   "source": [
    "df[df.text.str.startswith('fw : ')].head()"
   ]
  },
  {
   "cell_type": "code",
   "execution_count": 19,
   "id": "09665b76",
   "metadata": {},
   "outputs": [],
   "source": [
    "startRemove('fw : ')"
   ]
  },
  {
   "cell_type": "code",
   "execution_count": 20,
   "id": "0e141b3d",
   "metadata": {},
   "outputs": [],
   "source": [
    "startRemove('fw : ')"
   ]
  },
  {
   "cell_type": "code",
   "execution_count": 21,
   "id": "9fcf9dc6",
   "metadata": {},
   "outputs": [
    {
     "data": {
      "text/html": [
       "<div>\n",
       "<style scoped>\n",
       "    .dataframe tbody tr th:only-of-type {\n",
       "        vertical-align: middle;\n",
       "    }\n",
       "\n",
       "    .dataframe tbody tr th {\n",
       "        vertical-align: top;\n",
       "    }\n",
       "\n",
       "    .dataframe thead th {\n",
       "        text-align: right;\n",
       "    }\n",
       "</style>\n",
       "<table border=\"1\" class=\"dataframe\">\n",
       "  <thead>\n",
       "    <tr style=\"text-align: right;\">\n",
       "      <th></th>\n",
       "      <th>Unnamed: 0</th>\n",
       "      <th>label</th>\n",
       "      <th>text</th>\n",
       "      <th>label_num</th>\n",
       "    </tr>\n",
       "  </thead>\n",
       "  <tbody>\n",
       "  </tbody>\n",
       "</table>\n",
       "</div>"
      ],
      "text/plain": [
       "Empty DataFrame\n",
       "Columns: [Unnamed: 0, label, text, label_num]\n",
       "Index: []"
      ]
     },
     "execution_count": 21,
     "metadata": {},
     "output_type": "execute_result"
    }
   ],
   "source": [
    "df[df.text.str.startswith('fw : ')].head()"
   ]
  },
  {
   "cell_type": "code",
   "execution_count": 22,
   "id": "61462cce",
   "metadata": {},
   "outputs": [
    {
     "data": {
      "text/plain": [
       "(23, 1)"
      ]
     },
     "execution_count": 22,
     "metadata": {},
     "output_type": "execute_result"
    }
   ],
   "source": [
    "df.text.str.startswith('fwd : ').sum(), df.text.str.startswith('cfp : ').sum()"
   ]
  },
  {
   "cell_type": "code",
   "execution_count": 23,
   "id": "821fa9c5",
   "metadata": {},
   "outputs": [],
   "source": [
    "startRemove('fwd : ')\n",
    "startRemove('cfp : ')"
   ]
  },
  {
   "cell_type": "code",
   "execution_count": 24,
   "id": "9f6aaa1e",
   "metadata": {},
   "outputs": [
    {
     "data": {
      "text/plain": [
       "(0, 1, 0, 1)"
      ]
     },
     "execution_count": 24,
     "metadata": {},
     "output_type": "execute_result"
    }
   ],
   "source": [
    "df.text.str.startswith('fwd : ').sum(), df.text.str.startswith('fw : ').sum(), df.text.str.startswith('clf : ').sum(), df.text.str.startswith('re : ').sum()"
   ]
  },
  {
   "cell_type": "code",
   "execution_count": 25,
   "id": "dd90c95f",
   "metadata": {},
   "outputs": [
    {
     "data": {
      "text/plain": [
       "(1, 0, 0, 0)"
      ]
     },
     "execution_count": 25,
     "metadata": {},
     "output_type": "execute_result"
    }
   ],
   "source": [
    "startRemove('fw : ')\n",
    "startRemove('re : ')\n",
    "df.text.str.startswith('fwd : ').sum(), df.text.str.startswith('fw : ').sum(), df.text.str.startswith('clf : ').sum(), df.text.str.startswith('re : ').sum()"
   ]
  },
  {
   "cell_type": "code",
   "execution_count": 26,
   "id": "0f57552e",
   "metadata": {},
   "outputs": [
    {
     "data": {
      "text/plain": [
       "(0, 0, 0)"
      ]
     },
     "execution_count": 26,
     "metadata": {},
     "output_type": "execute_result"
    }
   ],
   "source": [
    "startRemove('fwd : ')\n",
    "df.text.str.startswith('fwd : ').sum(), df.text.str.startswith('fw : ').sum(), df.text.str.startswith('re : ').sum()"
   ]
  },
  {
   "cell_type": "code",
   "execution_count": 27,
   "id": "042b00ca",
   "metadata": {
    "scrolled": false
   },
   "outputs": [
    {
     "data": {
      "text/html": [
       "<div>\n",
       "<style scoped>\n",
       "    .dataframe tbody tr th:only-of-type {\n",
       "        vertical-align: middle;\n",
       "    }\n",
       "\n",
       "    .dataframe tbody tr th {\n",
       "        vertical-align: top;\n",
       "    }\n",
       "\n",
       "    .dataframe thead th {\n",
       "        text-align: right;\n",
       "    }\n",
       "</style>\n",
       "<table border=\"1\" class=\"dataframe\">\n",
       "  <thead>\n",
       "    <tr style=\"text-align: right;\">\n",
       "      <th></th>\n",
       "      <th>Unnamed: 0</th>\n",
       "      <th>label</th>\n",
       "      <th>text</th>\n",
       "      <th>label_num</th>\n",
       "    </tr>\n",
       "  </thead>\n",
       "  <tbody>\n",
       "    <tr>\n",
       "      <th>4509</th>\n",
       "      <td>548</td>\n",
       "      <td>ham</td>\n",
       "      <td>updates for april here is the updated version</td>\n",
       "      <td>0</td>\n",
       "    </tr>\n",
       "    <tr>\n",
       "      <th>2072</th>\n",
       "      <td>4673</td>\n",
       "      <td>spam</td>\n",
       "      <td>secrets of the rich and powerful revealed ! di...</td>\n",
       "      <td>1</td>\n",
       "    </tr>\n",
       "    <tr>\n",
       "      <th>2101</th>\n",
       "      <td>3592</td>\n",
       "      <td>ham</td>\n",
       "      <td>lobo payout because the payback was done for o...</td>\n",
       "      <td>0</td>\n",
       "    </tr>\n",
       "    <tr>\n",
       "      <th>4338</th>\n",
       "      <td>3531</td>\n",
       "      <td>ham</td>\n",
       "      <td>logistics powerpoint presentation hi all , thi...</td>\n",
       "      <td>0</td>\n",
       "    </tr>\n",
       "    <tr>\n",
       "      <th>4467</th>\n",
       "      <td>4386</td>\n",
       "      <td>spam</td>\n",
       "      <td>nasty slut getting fucked hard you have the ad...</td>\n",
       "      <td>1</td>\n",
       "    </tr>\n",
       "    <tr>\n",
       "      <th>4651</th>\n",
       "      <td>1053</td>\n",
       "      <td>ham</td>\n",
       "      <td>sap - timekeeping you should have received you...</td>\n",
       "      <td>0</td>\n",
       "    </tr>\n",
       "    <tr>\n",
       "      <th>3277</th>\n",
       "      <td>3922</td>\n",
       "      <td>spam</td>\n",
       "      <td>paramagnet isaac , ( 75 % off for all new soft...</td>\n",
       "      <td>1</td>\n",
       "    </tr>\n",
       "    <tr>\n",
       "      <th>2690</th>\n",
       "      <td>38</td>\n",
       "      <td>ham</td>\n",
       "      <td>misc . questions hhere are some questions for ...</td>\n",
       "      <td>0</td>\n",
       "    </tr>\n",
       "    <tr>\n",
       "      <th>3157</th>\n",
       "      <td>3978</td>\n",
       "      <td>spam</td>\n",
       "      <td>tape drives ( internal charset = us - ascii \" ...</td>\n",
       "      <td>1</td>\n",
       "    </tr>\n",
       "    <tr>\n",
       "      <th>1170</th>\n",
       "      <td>2602</td>\n",
       "      <td>ham</td>\n",
       "      <td>eastrans nomination effective march 1 , 2001 e...</td>\n",
       "      <td>0</td>\n",
       "    </tr>\n",
       "    <tr>\n",
       "      <th>3921</th>\n",
       "      <td>95</td>\n",
       "      <td>ham</td>\n",
       "      <td>ces deals rick ward manages their accounting g...</td>\n",
       "      <td>0</td>\n",
       "    </tr>\n",
       "    <tr>\n",
       "      <th>508</th>\n",
       "      <td>1457</td>\n",
       "      <td>ham</td>\n",
       "      <td>spot or firm tickets vance , the following nom...</td>\n",
       "      <td>0</td>\n",
       "    </tr>\n",
       "    <tr>\n",
       "      <th>2153</th>\n",
       "      <td>2402</td>\n",
       "      <td>ham</td>\n",
       "      <td>hpl nom for january 16 , 2001 ( see attached f...</td>\n",
       "      <td>0</td>\n",
       "    </tr>\n",
       "    <tr>\n",
       "      <th>3057</th>\n",
       "      <td>2136</td>\n",
       "      <td>ham</td>\n",
       "      <td>sitara / cpr availability to all sitara users ...</td>\n",
       "      <td>0</td>\n",
       "    </tr>\n",
       "    <tr>\n",
       "      <th>5118</th>\n",
       "      <td>3814</td>\n",
       "      <td>spam</td>\n",
       "      <td>suprise your spouse ! vi [ agra !</td>\n",
       "      <td>1</td>\n",
       "    </tr>\n",
       "  </tbody>\n",
       "</table>\n",
       "</div>"
      ],
      "text/plain": [
       "      Unnamed: 0 label                                               text  \\\n",
       "4509         548   ham      updates for april here is the updated version   \n",
       "2072        4673  spam  secrets of the rich and powerful revealed ! di...   \n",
       "2101        3592   ham  lobo payout because the payback was done for o...   \n",
       "4338        3531   ham  logistics powerpoint presentation hi all , thi...   \n",
       "4467        4386  spam  nasty slut getting fucked hard you have the ad...   \n",
       "4651        1053   ham  sap - timekeeping you should have received you...   \n",
       "3277        3922  spam  paramagnet isaac , ( 75 % off for all new soft...   \n",
       "2690          38   ham  misc . questions hhere are some questions for ...   \n",
       "3157        3978  spam  tape drives ( internal charset = us - ascii \" ...   \n",
       "1170        2602   ham  eastrans nomination effective march 1 , 2001 e...   \n",
       "3921          95   ham  ces deals rick ward manages their accounting g...   \n",
       "508         1457   ham  spot or firm tickets vance , the following nom...   \n",
       "2153        2402   ham  hpl nom for january 16 , 2001 ( see attached f...   \n",
       "3057        2136   ham  sitara / cpr availability to all sitara users ...   \n",
       "5118        3814  spam                 suprise your spouse ! vi [ agra !    \n",
       "\n",
       "      label_num  \n",
       "4509          0  \n",
       "2072          1  \n",
       "2101          0  \n",
       "4338          0  \n",
       "4467          1  \n",
       "4651          0  \n",
       "3277          1  \n",
       "2690          0  \n",
       "3157          1  \n",
       "1170          0  \n",
       "3921          0  \n",
       "508           0  \n",
       "2153          0  \n",
       "3057          0  \n",
       "5118          1  "
      ]
     },
     "execution_count": 27,
     "metadata": {},
     "output_type": "execute_result"
    }
   ],
   "source": [
    "df.sample(15)"
   ]
  },
  {
   "cell_type": "code",
   "execution_count": 28,
   "id": "4c24abc1",
   "metadata": {},
   "outputs": [],
   "source": [
    "startRemove('( no subject ) ')\n",
    "startRemove('cc : ')\n",
    "startRemove('[ fwd: ] ')"
   ]
  },
  {
   "cell_type": "code",
   "execution_count": 29,
   "id": "cb126c24",
   "metadata": {},
   "outputs": [
    {
     "data": {
      "text/html": [
       "<div>\n",
       "<style scoped>\n",
       "    .dataframe tbody tr th:only-of-type {\n",
       "        vertical-align: middle;\n",
       "    }\n",
       "\n",
       "    .dataframe tbody tr th {\n",
       "        vertical-align: top;\n",
       "    }\n",
       "\n",
       "    .dataframe thead th {\n",
       "        text-align: right;\n",
       "    }\n",
       "</style>\n",
       "<table border=\"1\" class=\"dataframe\">\n",
       "  <thead>\n",
       "    <tr style=\"text-align: right;\">\n",
       "      <th></th>\n",
       "      <th>text</th>\n",
       "      <th>label_num</th>\n",
       "    </tr>\n",
       "  </thead>\n",
       "  <tbody>\n",
       "    <tr>\n",
       "      <th>3593</th>\n",
       "      <td>new enrononline functionality several changes ...</td>\n",
       "      <td>0</td>\n",
       "    </tr>\n",
       "    <tr>\n",
       "      <th>2386</th>\n",
       "      <td>over $ 50 - - you made it happen ! on wall str...</td>\n",
       "      <td>0</td>\n",
       "    </tr>\n",
       "    <tr>\n",
       "      <th>3642</th>\n",
       "      <td>revision # 1 - enron actuals for may 11 , 2000...</td>\n",
       "      <td>0</td>\n",
       "    </tr>\n",
       "    <tr>\n",
       "      <th>1032</th>\n",
       "      <td>hi paliourg , like to watch real people gettin...</td>\n",
       "      <td>1</td>\n",
       "    </tr>\n",
       "    <tr>\n",
       "      <th>1708</th>\n",
       "      <td>noms / actual flow for 03 / 09 thru 3 / 11 / 0...</td>\n",
       "      <td>0</td>\n",
       "    </tr>\n",
       "  </tbody>\n",
       "</table>\n",
       "</div>"
      ],
      "text/plain": [
       "                                                   text  label_num\n",
       "3593  new enrononline functionality several changes ...          0\n",
       "2386  over $ 50 - - you made it happen ! on wall str...          0\n",
       "3642  revision # 1 - enron actuals for may 11 , 2000...          0\n",
       "1032  hi paliourg , like to watch real people gettin...          1\n",
       "1708  noms / actual flow for 03 / 09 thru 3 / 11 / 0...          0"
      ]
     },
     "execution_count": 29,
     "metadata": {},
     "output_type": "execute_result"
    }
   ],
   "source": [
    "df.drop(['Unnamed: 0', 'label'], axis=1, inplace=True)\n",
    "df.sample(5)"
   ]
  },
  {
   "cell_type": "code",
   "execution_count": 30,
   "id": "b16ac145",
   "metadata": {},
   "outputs": [
    {
     "data": {
      "text/html": [
       "<div>\n",
       "<style scoped>\n",
       "    .dataframe tbody tr th:only-of-type {\n",
       "        vertical-align: middle;\n",
       "    }\n",
       "\n",
       "    .dataframe tbody tr th {\n",
       "        vertical-align: top;\n",
       "    }\n",
       "\n",
       "    .dataframe thead th {\n",
       "        text-align: right;\n",
       "    }\n",
       "</style>\n",
       "<table border=\"1\" class=\"dataframe\">\n",
       "  <thead>\n",
       "    <tr style=\"text-align: right;\">\n",
       "      <th></th>\n",
       "      <th>text</th>\n",
       "      <th>target</th>\n",
       "    </tr>\n",
       "  </thead>\n",
       "  <tbody>\n",
       "    <tr>\n",
       "      <th>3146</th>\n",
       "      <td>enron / hpl actuals for sept . 14 , 2000 teco ...</td>\n",
       "      <td>0</td>\n",
       "    </tr>\n",
       "    <tr>\n",
       "      <th>4620</th>\n",
       "      <td>rolex , cartier , piaget replicas - expensive ...</td>\n",
       "      <td>1</td>\n",
       "    </tr>\n",
       "    <tr>\n",
       "      <th>349</th>\n",
       "      <td>organizational announcement please note the fo...</td>\n",
       "      <td>0</td>\n",
       "    </tr>\n",
       "  </tbody>\n",
       "</table>\n",
       "</div>"
      ],
      "text/plain": [
       "                                                   text  target\n",
       "3146  enron / hpl actuals for sept . 14 , 2000 teco ...       0\n",
       "4620  rolex , cartier , piaget replicas - expensive ...       1\n",
       "349   organizational announcement please note the fo...       0"
      ]
     },
     "execution_count": 30,
     "metadata": {},
     "output_type": "execute_result"
    }
   ],
   "source": [
    "df.rename(columns={'label_num': 'target'}, inplace=True)\n",
    "df.sample(3)"
   ]
  },
  {
   "cell_type": "code",
   "execution_count": 31,
   "id": "d477a116",
   "metadata": {},
   "outputs": [
    {
     "data": {
      "text/plain": [
       "text      0\n",
       "target    0\n",
       "dtype: int64"
      ]
     },
     "execution_count": 31,
     "metadata": {},
     "output_type": "execute_result"
    }
   ],
   "source": [
    "df.isnull().sum()"
   ]
  },
  {
   "cell_type": "code",
   "execution_count": 32,
   "id": "37878c58",
   "metadata": {},
   "outputs": [
    {
     "data": {
      "text/plain": [
       "270"
      ]
     },
     "execution_count": 32,
     "metadata": {},
     "output_type": "execute_result"
    }
   ],
   "source": [
    "df.duplicated().sum()"
   ]
  },
  {
   "cell_type": "code",
   "execution_count": 33,
   "id": "1c92b027",
   "metadata": {},
   "outputs": [
    {
     "data": {
      "text/html": [
       "<div>\n",
       "<style scoped>\n",
       "    .dataframe tbody tr th:only-of-type {\n",
       "        vertical-align: middle;\n",
       "    }\n",
       "\n",
       "    .dataframe tbody tr th {\n",
       "        vertical-align: top;\n",
       "    }\n",
       "\n",
       "    .dataframe thead th {\n",
       "        text-align: right;\n",
       "    }\n",
       "</style>\n",
       "<table border=\"1\" class=\"dataframe\">\n",
       "  <thead>\n",
       "    <tr style=\"text-align: right;\">\n",
       "      <th></th>\n",
       "      <th>text</th>\n",
       "      <th>target</th>\n",
       "    </tr>\n",
       "  </thead>\n",
       "  <tbody>\n",
       "    <tr>\n",
       "      <th>4071</th>\n",
       "      <td>cornhusker thanks for the information below . ...</td>\n",
       "      <td>0</td>\n",
       "    </tr>\n",
       "    <tr>\n",
       "      <th>5058</th>\n",
       "      <td>desk to desk ticket between nng and pgev and o...</td>\n",
       "      <td>0</td>\n",
       "    </tr>\n",
       "    <tr>\n",
       "      <th>5007</th>\n",
       "      <td>heads - up - tenaska iv partner ltd . - septem...</td>\n",
       "      <td>0</td>\n",
       "    </tr>\n",
       "    <tr>\n",
       "      <th>3209</th>\n",
       "      <td>hpl nom for march 15 , 2001 ( see attached fil...</td>\n",
       "      <td>0</td>\n",
       "    </tr>\n",
       "    <tr>\n",
       "      <th>4324</th>\n",
       "      <td>meter 1558 daren - meter 1558 has no nom for m...</td>\n",
       "      <td>0</td>\n",
       "    </tr>\n",
       "  </tbody>\n",
       "</table>\n",
       "</div>"
      ],
      "text/plain": [
       "                                                   text  target\n",
       "4071  cornhusker thanks for the information below . ...       0\n",
       "5058  desk to desk ticket between nng and pgev and o...       0\n",
       "5007  heads - up - tenaska iv partner ltd . - septem...       0\n",
       "3209  hpl nom for march 15 , 2001 ( see attached fil...       0\n",
       "4324  meter 1558 daren - meter 1558 has no nom for m...       0"
      ]
     },
     "execution_count": 33,
     "metadata": {},
     "output_type": "execute_result"
    }
   ],
   "source": [
    "df[df.duplicated()].sample(5)"
   ]
  },
  {
   "cell_type": "code",
   "execution_count": 34,
   "id": "f56dab66",
   "metadata": {},
   "outputs": [
    {
     "data": {
      "text/plain": [
       "0"
      ]
     },
     "execution_count": 34,
     "metadata": {},
     "output_type": "execute_result"
    }
   ],
   "source": [
    "df.drop_duplicates(keep='first', inplace=True)\n",
    "df.duplicated().sum()"
   ]
  },
  {
   "cell_type": "code",
   "execution_count": 35,
   "id": "6a0edb08",
   "metadata": {},
   "outputs": [
    {
     "data": {
      "text/plain": [
       "(4901, 2)"
      ]
     },
     "execution_count": 35,
     "metadata": {},
     "output_type": "execute_result"
    }
   ],
   "source": [
    "df.shape"
   ]
  },
  {
   "cell_type": "markdown",
   "id": "ecc83e9f",
   "metadata": {},
   "source": [
    "## EDA"
   ]
  },
  {
   "cell_type": "code",
   "execution_count": 36,
   "id": "9f72cd45",
   "metadata": {},
   "outputs": [
    {
     "data": {
      "text/plain": [
       "<AxesSubplot:xlabel='target', ylabel='count'>"
      ]
     },
     "execution_count": 36,
     "metadata": {},
     "output_type": "execute_result"
    },
    {
     "data": {
      "image/png": "[encoded data removed]",
      "text/plain": [
       "<Figure size 432x288 with 1 Axes>"
      ]
     },
     "metadata": {
      "needs_background": "light"
     },
     "output_type": "display_data"
    }
   ],
   "source": [
    "sns.countplot(df.target)"
   ]
  },
  {
   "cell_type": "code",
   "execution_count": 37,
   "id": "08df5623",
   "metadata": {},
   "outputs": [
    {
     "data": {
      "text/plain": [
       "0    3441\n",
       "1    1460\n",
       "Name: target, dtype: int64"
      ]
     },
     "execution_count": 37,
     "metadata": {},
     "output_type": "execute_result"
    }
   ],
   "source": [
    "df.target.value_counts()"
   ]
  },
  {
   "cell_type": "code",
   "execution_count": 38,
   "id": "76fcecfc",
   "metadata": {},
   "outputs": [
    {
     "data": {
      "image/png": "[encoded data removed]",
      "text/plain": [
       "<Figure size 432x288 with 1 Axes>"
      ]
     },
     "metadata": {},
     "output_type": "display_data"
    }
   ],
   "source": [
    "plt.pie(df.target.value_counts(), labels=['ham', 'spam'], autopct=\"%0.2f\");"
   ]
  },
  {
   "cell_type": "code",
   "execution_count": 39,
   "id": "28fdf8a2",
   "metadata": {},
   "outputs": [],
   "source": [
    "import nltk"
   ]
  },
  {
   "cell_type": "code",
   "execution_count": 40,
   "id": "c074cafa",
   "metadata": {},
   "outputs": [
    {
     "name": "stderr",
     "output_type": "stream",
     "text": [
      "[nltk_data] Downloading package punkt to C:\\Users\\Yogesh\n",
      "[nltk_data]     Jadhav\\AppData\\Roaming\\nltk_data...\n",
      "[nltk_data]   Package punkt is already up-to-date!\n"
     ]
    },
    {
     "data": {
      "text/plain": [
       "True"
      ]
     },
     "execution_count": 40,
     "metadata": {},
     "output_type": "execute_result"
    }
   ],
   "source": [
    "nltk.download('punkt')"
   ]
  },
  {
   "cell_type": "code",
   "execution_count": 41,
   "id": "ef422d47",
   "metadata": {},
   "outputs": [
    {
     "data": {
      "text/html": [
       "<div>\n",
       "<style scoped>\n",
       "    .dataframe tbody tr th:only-of-type {\n",
       "        vertical-align: middle;\n",
       "    }\n",
       "\n",
       "    .dataframe tbody tr th {\n",
       "        vertical-align: top;\n",
       "    }\n",
       "\n",
       "    .dataframe thead th {\n",
       "        text-align: right;\n",
       "    }\n",
       "</style>\n",
       "<table border=\"1\" class=\"dataframe\">\n",
       "  <thead>\n",
       "    <tr style=\"text-align: right;\">\n",
       "      <th></th>\n",
       "      <th>text</th>\n",
       "      <th>target</th>\n",
       "      <th>count_chars</th>\n",
       "    </tr>\n",
       "  </thead>\n",
       "  <tbody>\n",
       "    <tr>\n",
       "      <th>1518</th>\n",
       "      <td>failed deals hi daren , as per our phone conve...</td>\n",
       "      <td>0</td>\n",
       "      <td>273</td>\n",
       "    </tr>\n",
       "    <tr>\n",
       "      <th>40</th>\n",
       "      <td>vlc , 0 dln for sale , no prior pres . crip . ...</td>\n",
       "      <td>1</td>\n",
       "      <td>416</td>\n",
       "    </tr>\n",
       "    <tr>\n",
       "      <th>4521</th>\n",
       "      <td>dermatology , neurology , pathology , the new ...</td>\n",
       "      <td>1</td>\n",
       "      <td>1556</td>\n",
       "    </tr>\n",
       "    <tr>\n",
       "      <th>2551</th>\n",
       "      <td>vicodin for sale , no prior prescription neede...</td>\n",
       "      <td>1</td>\n",
       "      <td>671</td>\n",
       "    </tr>\n",
       "    <tr>\n",
       "      <th>1707</th>\n",
       "      <td>jenkins gilbert , online doctorxx ! up to 70 %...</td>\n",
       "      <td>1</td>\n",
       "      <td>211</td>\n",
       "    </tr>\n",
       "  </tbody>\n",
       "</table>\n",
       "</div>"
      ],
      "text/plain": [
       "                                                   text  target  count_chars\n",
       "1518  failed deals hi daren , as per our phone conve...       0          273\n",
       "40    vlc , 0 dln for sale , no prior pres . crip . ...       1          416\n",
       "4521  dermatology , neurology , pathology , the new ...       1         1556\n",
       "2551  vicodin for sale , no prior prescription neede...       1          671\n",
       "1707  jenkins gilbert , online doctorxx ! up to 70 %...       1          211"
      ]
     },
     "execution_count": 41,
     "metadata": {},
     "output_type": "execute_result"
    }
   ],
   "source": [
    "df['count_chars'] = df.text.apply(len)\n",
    "df.sample(5)"
   ]
  },
  {
   "cell_type": "code",
   "execution_count": 42,
   "id": "bcc4eca2",
   "metadata": {},
   "outputs": [
    {
     "data": {
      "text/html": [
       "<div>\n",
       "<style scoped>\n",
       "    .dataframe tbody tr th:only-of-type {\n",
       "        vertical-align: middle;\n",
       "    }\n",
       "\n",
       "    .dataframe tbody tr th {\n",
       "        vertical-align: top;\n",
       "    }\n",
       "\n",
       "    .dataframe thead th {\n",
       "        text-align: right;\n",
       "    }\n",
       "</style>\n",
       "<table border=\"1\" class=\"dataframe\">\n",
       "  <thead>\n",
       "    <tr style=\"text-align: right;\">\n",
       "      <th></th>\n",
       "      <th>text</th>\n",
       "      <th>target</th>\n",
       "      <th>count_chars</th>\n",
       "      <th>count_words</th>\n",
       "    </tr>\n",
       "  </thead>\n",
       "  <tbody>\n",
       "    <tr>\n",
       "      <th>2900</th>\n",
       "      <td>fyi - - - kinder morgan stg fyi - - kinder mor...</td>\n",
       "      <td>0</td>\n",
       "      <td>137</td>\n",
       "      <td>31</td>\n",
       "    </tr>\n",
       "    <tr>\n",
       "      <th>5133</th>\n",
       "      <td>revised nomination - cody energy daren , i rec...</td>\n",
       "      <td>0</td>\n",
       "      <td>245</td>\n",
       "      <td>54</td>\n",
       "    </tr>\n",
       "    <tr>\n",
       "      <th>5161</th>\n",
       "      <td>penny stocks are about timing nomad internatio...</td>\n",
       "      <td>1</td>\n",
       "      <td>4081</td>\n",
       "      <td>764</td>\n",
       "    </tr>\n",
       "    <tr>\n",
       "      <th>4396</th>\n",
       "      <td>feedback monitor error - meter 984132 - 1 / 99...</td>\n",
       "      <td>0</td>\n",
       "      <td>1235</td>\n",
       "      <td>318</td>\n",
       "    </tr>\n",
       "    <tr>\n",
       "      <th>2847</th>\n",
       "      <td>save a bundle on meds ! font color = whiteisaa...</td>\n",
       "      <td>1</td>\n",
       "      <td>2289</td>\n",
       "      <td>486</td>\n",
       "    </tr>\n",
       "  </tbody>\n",
       "</table>\n",
       "</div>"
      ],
      "text/plain": [
       "                                                   text  target  count_chars  \\\n",
       "2900  fyi - - - kinder morgan stg fyi - - kinder mor...       0          137   \n",
       "5133  revised nomination - cody energy daren , i rec...       0          245   \n",
       "5161  penny stocks are about timing nomad internatio...       1         4081   \n",
       "4396  feedback monitor error - meter 984132 - 1 / 99...       0         1235   \n",
       "2847  save a bundle on meds ! font color = whiteisaa...       1         2289   \n",
       "\n",
       "      count_words  \n",
       "2900           31  \n",
       "5133           54  \n",
       "5161          764  \n",
       "4396          318  \n",
       "2847          486  "
      ]
     },
     "execution_count": 42,
     "metadata": {},
     "output_type": "execute_result"
    }
   ],
   "source": [
    "df['count_words'] = df.text.apply(lambda x: len(nltk.word_tokenize(x)))\n",
    "df.sample(5)"
   ]
  },
  {
   "cell_type": "code",
   "execution_count": 43,
   "id": "1d85e951",
   "metadata": {},
   "outputs": [
    {
     "data": {
      "text/html": [
       "<div>\n",
       "<style scoped>\n",
       "    .dataframe tbody tr th:only-of-type {\n",
       "        vertical-align: middle;\n",
       "    }\n",
       "\n",
       "    .dataframe tbody tr th {\n",
       "        vertical-align: top;\n",
       "    }\n",
       "\n",
       "    .dataframe thead th {\n",
       "        text-align: right;\n",
       "    }\n",
       "</style>\n",
       "<table border=\"1\" class=\"dataframe\">\n",
       "  <thead>\n",
       "    <tr style=\"text-align: right;\">\n",
       "      <th></th>\n",
       "      <th>text</th>\n",
       "      <th>target</th>\n",
       "      <th>count_chars</th>\n",
       "      <th>count_words</th>\n",
       "      <th>count_sent</th>\n",
       "    </tr>\n",
       "  </thead>\n",
       "  <tbody>\n",
       "    <tr>\n",
       "      <th>2906</th>\n",
       "      <td>sexually - explicit : meet the wildest babes s...</td>\n",
       "      <td>1</td>\n",
       "      <td>680</td>\n",
       "      <td>123</td>\n",
       "      <td>14</td>\n",
       "    </tr>\n",
       "    <tr>\n",
       "      <th>1411</th>\n",
       "      <td>acrobat pro 7 . 0 $ 69 . 95 xp pro opt - in em...</td>\n",
       "      <td>1</td>\n",
       "      <td>2930</td>\n",
       "      <td>554</td>\n",
       "      <td>26</td>\n",
       "    </tr>\n",
       "    <tr>\n",
       "      <th>4913</th>\n",
       "      <td>tdk cd labeling kit @ $ 12 . 00 cd labeling ki...</td>\n",
       "      <td>1</td>\n",
       "      <td>2306</td>\n",
       "      <td>479</td>\n",
       "      <td>42</td>\n",
       "    </tr>\n",
       "    <tr>\n",
       "      <th>404</th>\n",
       "      <td>viagra soft tabs viagra soft tabs is the # 1 m...</td>\n",
       "      <td>1</td>\n",
       "      <td>586</td>\n",
       "      <td>121</td>\n",
       "      <td>7</td>\n",
       "    </tr>\n",
       "    <tr>\n",
       "      <th>5128</th>\n",
       "      <td>hplc / tglo deals darren : i have a request fr...</td>\n",
       "      <td>0</td>\n",
       "      <td>602</td>\n",
       "      <td>141</td>\n",
       "      <td>9</td>\n",
       "    </tr>\n",
       "  </tbody>\n",
       "</table>\n",
       "</div>"
      ],
      "text/plain": [
       "                                                   text  target  count_chars  \\\n",
       "2906  sexually - explicit : meet the wildest babes s...       1          680   \n",
       "1411  acrobat pro 7 . 0 $ 69 . 95 xp pro opt - in em...       1         2930   \n",
       "4913  tdk cd labeling kit @ $ 12 . 00 cd labeling ki...       1         2306   \n",
       "404   viagra soft tabs viagra soft tabs is the # 1 m...       1          586   \n",
       "5128  hplc / tglo deals darren : i have a request fr...       0          602   \n",
       "\n",
       "      count_words  count_sent  \n",
       "2906          123          14  \n",
       "1411          554          26  \n",
       "4913          479          42  \n",
       "404           121           7  \n",
       "5128          141           9  "
      ]
     },
     "execution_count": 43,
     "metadata": {},
     "output_type": "execute_result"
    }
   ],
   "source": [
    "df['count_sent'] = df.text.apply(lambda x: len(nltk.sent_tokenize(x)))\n",
    "df.sample(5)"
   ]
  },
  {
   "cell_type": "code",
   "execution_count": 44,
   "id": "83512b28",
   "metadata": {},
   "outputs": [
    {
     "data": {
      "text/plain": [
       "(31846, 1)"
      ]
     },
     "execution_count": 44,
     "metadata": {},
     "output_type": "execute_result"
    }
   ],
   "source": [
    "df.count_chars.max(), df.count_chars.min()"
   ]
  },
  {
   "cell_type": "code",
   "execution_count": 45,
   "id": "11c4f05b",
   "metadata": {
    "scrolled": true
   },
   "outputs": [
    {
     "data": {
      "text/plain": [
       "(8859, 0)"
      ]
     },
     "execution_count": 45,
     "metadata": {},
     "output_type": "execute_result"
    }
   ],
   "source": [
    "df.count_words.max(), df.count_words.min()"
   ]
  },
  {
   "cell_type": "code",
   "execution_count": 46,
   "id": "af8ecfd3",
   "metadata": {},
   "outputs": [
    {
     "data": {
      "text/plain": [
       "(1204, 0)"
      ]
     },
     "execution_count": 46,
     "metadata": {},
     "output_type": "execute_result"
    }
   ],
   "source": [
    "df.count_sent.max(), df.count_sent.min()"
   ]
  },
  {
   "cell_type": "code",
   "execution_count": 47,
   "id": "2b150296",
   "metadata": {},
   "outputs": [
    {
     "data": {
      "text/html": [
       "<div>\n",
       "<style scoped>\n",
       "    .dataframe tbody tr th:only-of-type {\n",
       "        vertical-align: middle;\n",
       "    }\n",
       "\n",
       "    .dataframe tbody tr th {\n",
       "        vertical-align: top;\n",
       "    }\n",
       "\n",
       "    .dataframe thead th {\n",
       "        text-align: right;\n",
       "    }\n",
       "</style>\n",
       "<table border=\"1\" class=\"dataframe\">\n",
       "  <thead>\n",
       "    <tr style=\"text-align: right;\">\n",
       "      <th></th>\n",
       "      <th>text</th>\n",
       "      <th>target</th>\n",
       "      <th>count_chars</th>\n",
       "      <th>count_words</th>\n",
       "      <th>count_sent</th>\n",
       "    </tr>\n",
       "  </thead>\n",
       "  <tbody>\n",
       "    <tr>\n",
       "      <th>949</th>\n",
       "      <td>\" red , white and blue out \" - - - - - origina...</td>\n",
       "      <td>0</td>\n",
       "      <td>31846</td>\n",
       "      <td>8859</td>\n",
       "      <td>1204</td>\n",
       "    </tr>\n",
       "  </tbody>\n",
       "</table>\n",
       "</div>"
      ],
      "text/plain": [
       "                                                  text  target  count_chars  \\\n",
       "949  \" red , white and blue out \" - - - - - origina...       0        31846   \n",
       "\n",
       "     count_words  count_sent  \n",
       "949         8859        1204  "
      ]
     },
     "execution_count": 47,
     "metadata": {},
     "output_type": "execute_result"
    }
   ],
   "source": [
    "df[df.count_sent == 1204]"
   ]
  },
  {
   "cell_type": "code",
   "execution_count": 48,
   "id": "a3baa427",
   "metadata": {
    "scrolled": true
   },
   "outputs": [
    {
     "data": {
      "text/html": [
       "<div>\n",
       "<style scoped>\n",
       "    .dataframe tbody tr th:only-of-type {\n",
       "        vertical-align: middle;\n",
       "    }\n",
       "\n",
       "    .dataframe tbody tr th {\n",
       "        vertical-align: top;\n",
       "    }\n",
       "\n",
       "    .dataframe thead th {\n",
       "        text-align: right;\n",
       "    }\n",
       "</style>\n",
       "<table border=\"1\" class=\"dataframe\">\n",
       "  <thead>\n",
       "    <tr style=\"text-align: right;\">\n",
       "      <th></th>\n",
       "      <th>text</th>\n",
       "      <th>target</th>\n",
       "      <th>count_chars</th>\n",
       "      <th>count_words</th>\n",
       "      <th>count_sent</th>\n",
       "    </tr>\n",
       "  </thead>\n",
       "  <tbody>\n",
       "    <tr>\n",
       "      <th>154</th>\n",
       "      <td></td>\n",
       "      <td>1</td>\n",
       "      <td>1</td>\n",
       "      <td>0</td>\n",
       "      <td>0</td>\n",
       "    </tr>\n",
       "  </tbody>\n",
       "</table>\n",
       "</div>"
      ],
      "text/plain": [
       "    text  target  count_chars  count_words  count_sent\n",
       "154            1            1            0           0"
      ]
     },
     "execution_count": 48,
     "metadata": {},
     "output_type": "execute_result"
    }
   ],
   "source": [
    "df[df.count_chars == 1]"
   ]
  },
  {
   "cell_type": "code",
   "execution_count": 49,
   "id": "2f5cd37c",
   "metadata": {},
   "outputs": [
    {
     "data": {
      "text/plain": [
       "(1, 1)"
      ]
     },
     "execution_count": 49,
     "metadata": {},
     "output_type": "execute_result"
    }
   ],
   "source": [
    "(df.count_words == 0).sum(), (df.count_sent == 0).sum()"
   ]
  },
  {
   "cell_type": "code",
   "execution_count": 50,
   "id": "b8434845",
   "metadata": {},
   "outputs": [
    {
     "data": {
      "text/html": [
       "<div>\n",
       "<style scoped>\n",
       "    .dataframe tbody tr th:only-of-type {\n",
       "        vertical-align: middle;\n",
       "    }\n",
       "\n",
       "    .dataframe tbody tr th {\n",
       "        vertical-align: top;\n",
       "    }\n",
       "\n",
       "    .dataframe thead th {\n",
       "        text-align: right;\n",
       "    }\n",
       "</style>\n",
       "<table border=\"1\" class=\"dataframe\">\n",
       "  <thead>\n",
       "    <tr style=\"text-align: right;\">\n",
       "      <th></th>\n",
       "      <th>target</th>\n",
       "      <th>count_chars</th>\n",
       "      <th>count_words</th>\n",
       "      <th>count_sent</th>\n",
       "    </tr>\n",
       "  </thead>\n",
       "  <tbody>\n",
       "    <tr>\n",
       "      <th>count</th>\n",
       "      <td>4901.000000</td>\n",
       "      <td>4901.000000</td>\n",
       "      <td>4901.000000</td>\n",
       "      <td>4901.000000</td>\n",
       "    </tr>\n",
       "    <tr>\n",
       "      <th>mean</th>\n",
       "      <td>0.297898</td>\n",
       "      <td>1047.502959</td>\n",
       "      <td>232.623138</td>\n",
       "      <td>13.391961</td>\n",
       "    </tr>\n",
       "    <tr>\n",
       "      <th>std</th>\n",
       "      <td>0.457381</td>\n",
       "      <td>1535.264946</td>\n",
       "      <td>343.056204</td>\n",
       "      <td>27.111395</td>\n",
       "    </tr>\n",
       "    <tr>\n",
       "      <th>min</th>\n",
       "      <td>0.000000</td>\n",
       "      <td>1.000000</td>\n",
       "      <td>0.000000</td>\n",
       "      <td>0.000000</td>\n",
       "    </tr>\n",
       "    <tr>\n",
       "      <th>25%</th>\n",
       "      <td>0.000000</td>\n",
       "      <td>240.000000</td>\n",
       "      <td>52.000000</td>\n",
       "      <td>4.000000</td>\n",
       "    </tr>\n",
       "    <tr>\n",
       "      <th>50%</th>\n",
       "      <td>0.000000</td>\n",
       "      <td>537.000000</td>\n",
       "      <td>123.000000</td>\n",
       "      <td>7.000000</td>\n",
       "    </tr>\n",
       "    <tr>\n",
       "      <th>75%</th>\n",
       "      <td>1.000000</td>\n",
       "      <td>1240.000000</td>\n",
       "      <td>287.000000</td>\n",
       "      <td>15.000000</td>\n",
       "    </tr>\n",
       "    <tr>\n",
       "      <th>max</th>\n",
       "      <td>1.000000</td>\n",
       "      <td>31846.000000</td>\n",
       "      <td>8859.000000</td>\n",
       "      <td>1204.000000</td>\n",
       "    </tr>\n",
       "  </tbody>\n",
       "</table>\n",
       "</div>"
      ],
      "text/plain": [
       "            target   count_chars  count_words   count_sent\n",
       "count  4901.000000   4901.000000  4901.000000  4901.000000\n",
       "mean      0.297898   1047.502959   232.623138    13.391961\n",
       "std       0.457381   1535.264946   343.056204    27.111395\n",
       "min       0.000000      1.000000     0.000000     0.000000\n",
       "25%       0.000000    240.000000    52.000000     4.000000\n",
       "50%       0.000000    537.000000   123.000000     7.000000\n",
       "75%       1.000000   1240.000000   287.000000    15.000000\n",
       "max       1.000000  31846.000000  8859.000000  1204.000000"
      ]
     },
     "execution_count": 50,
     "metadata": {},
     "output_type": "execute_result"
    }
   ],
   "source": [
    "df.describe()"
   ]
  },
  {
   "cell_type": "code",
   "execution_count": 51,
   "id": "c03f175b",
   "metadata": {},
   "outputs": [
    {
     "data": {
      "text/html": [
       "<div>\n",
       "<style scoped>\n",
       "    .dataframe tbody tr th:only-of-type {\n",
       "        vertical-align: middle;\n",
       "    }\n",
       "\n",
       "    .dataframe tbody tr th {\n",
       "        vertical-align: top;\n",
       "    }\n",
       "\n",
       "    .dataframe thead th {\n",
       "        text-align: right;\n",
       "    }\n",
       "</style>\n",
       "<table border=\"1\" class=\"dataframe\">\n",
       "  <thead>\n",
       "    <tr style=\"text-align: right;\">\n",
       "      <th></th>\n",
       "      <th>target</th>\n",
       "      <th>count_chars</th>\n",
       "      <th>count_words</th>\n",
       "      <th>count_sent</th>\n",
       "    </tr>\n",
       "  </thead>\n",
       "  <tbody>\n",
       "    <tr>\n",
       "      <th>count</th>\n",
       "      <td>1460.0</td>\n",
       "      <td>1460.000000</td>\n",
       "      <td>1460.000000</td>\n",
       "      <td>1460.000000</td>\n",
       "    </tr>\n",
       "    <tr>\n",
       "      <th>mean</th>\n",
       "      <td>1.0</td>\n",
       "      <td>1218.205479</td>\n",
       "      <td>239.084932</td>\n",
       "      <td>17.260274</td>\n",
       "    </tr>\n",
       "    <tr>\n",
       "      <th>std</th>\n",
       "      <td>0.0</td>\n",
       "      <td>1814.800833</td>\n",
       "      <td>349.536197</td>\n",
       "      <td>29.963504</td>\n",
       "    </tr>\n",
       "    <tr>\n",
       "      <th>min</th>\n",
       "      <td>1.0</td>\n",
       "      <td>1.000000</td>\n",
       "      <td>0.000000</td>\n",
       "      <td>0.000000</td>\n",
       "    </tr>\n",
       "    <tr>\n",
       "      <th>25%</th>\n",
       "      <td>1.0</td>\n",
       "      <td>290.000000</td>\n",
       "      <td>58.000000</td>\n",
       "      <td>4.000000</td>\n",
       "    </tr>\n",
       "    <tr>\n",
       "      <th>50%</th>\n",
       "      <td>1.0</td>\n",
       "      <td>568.500000</td>\n",
       "      <td>117.500000</td>\n",
       "      <td>9.000000</td>\n",
       "    </tr>\n",
       "    <tr>\n",
       "      <th>75%</th>\n",
       "      <td>1.0</td>\n",
       "      <td>1263.250000</td>\n",
       "      <td>250.250000</td>\n",
       "      <td>19.000000</td>\n",
       "    </tr>\n",
       "    <tr>\n",
       "      <th>max</th>\n",
       "      <td>1.0</td>\n",
       "      <td>21740.000000</td>\n",
       "      <td>3961.000000</td>\n",
       "      <td>577.000000</td>\n",
       "    </tr>\n",
       "  </tbody>\n",
       "</table>\n",
       "</div>"
      ],
      "text/plain": [
       "       target   count_chars  count_words   count_sent\n",
       "count  1460.0   1460.000000  1460.000000  1460.000000\n",
       "mean      1.0   1218.205479   239.084932    17.260274\n",
       "std       0.0   1814.800833   349.536197    29.963504\n",
       "min       1.0      1.000000     0.000000     0.000000\n",
       "25%       1.0    290.000000    58.000000     4.000000\n",
       "50%       1.0    568.500000   117.500000     9.000000\n",
       "75%       1.0   1263.250000   250.250000    19.000000\n",
       "max       1.0  21740.000000  3961.000000   577.000000"
      ]
     },
     "execution_count": 51,
     "metadata": {},
     "output_type": "execute_result"
    }
   ],
   "source": [
    "df[df.target == 1].describe()"
   ]
  },
  {
   "cell_type": "code",
   "execution_count": 52,
   "id": "f63c9ac9",
   "metadata": {},
   "outputs": [
    {
     "data": {
      "text/html": [
       "<div>\n",
       "<style scoped>\n",
       "    .dataframe tbody tr th:only-of-type {\n",
       "        vertical-align: middle;\n",
       "    }\n",
       "\n",
       "    .dataframe tbody tr th {\n",
       "        vertical-align: top;\n",
       "    }\n",
       "\n",
       "    .dataframe thead th {\n",
       "        text-align: right;\n",
       "    }\n",
       "</style>\n",
       "<table border=\"1\" class=\"dataframe\">\n",
       "  <thead>\n",
       "    <tr style=\"text-align: right;\">\n",
       "      <th></th>\n",
       "      <th>target</th>\n",
       "      <th>count_chars</th>\n",
       "      <th>count_words</th>\n",
       "      <th>count_sent</th>\n",
       "    </tr>\n",
       "  </thead>\n",
       "  <tbody>\n",
       "    <tr>\n",
       "      <th>count</th>\n",
       "      <td>3441.0</td>\n",
       "      <td>3441.000000</td>\n",
       "      <td>3441.000000</td>\n",
       "      <td>3441.000000</td>\n",
       "    </tr>\n",
       "    <tr>\n",
       "      <th>mean</th>\n",
       "      <td>0.0</td>\n",
       "      <td>975.074688</td>\n",
       "      <td>229.881430</td>\n",
       "      <td>11.750654</td>\n",
       "    </tr>\n",
       "    <tr>\n",
       "      <th>std</th>\n",
       "      <td>0.0</td>\n",
       "      <td>1393.889747</td>\n",
       "      <td>340.283774</td>\n",
       "      <td>25.635028</td>\n",
       "    </tr>\n",
       "    <tr>\n",
       "      <th>min</th>\n",
       "      <td>0.0</td>\n",
       "      <td>8.000000</td>\n",
       "      <td>1.000000</td>\n",
       "      <td>1.000000</td>\n",
       "    </tr>\n",
       "    <tr>\n",
       "      <th>25%</th>\n",
       "      <td>0.0</td>\n",
       "      <td>225.000000</td>\n",
       "      <td>50.000000</td>\n",
       "      <td>4.000000</td>\n",
       "    </tr>\n",
       "    <tr>\n",
       "      <th>50%</th>\n",
       "      <td>0.0</td>\n",
       "      <td>520.000000</td>\n",
       "      <td>126.000000</td>\n",
       "      <td>7.000000</td>\n",
       "    </tr>\n",
       "    <tr>\n",
       "      <th>75%</th>\n",
       "      <td>0.0</td>\n",
       "      <td>1235.000000</td>\n",
       "      <td>298.000000</td>\n",
       "      <td>14.000000</td>\n",
       "    </tr>\n",
       "    <tr>\n",
       "      <th>max</th>\n",
       "      <td>0.0</td>\n",
       "      <td>31846.000000</td>\n",
       "      <td>8859.000000</td>\n",
       "      <td>1204.000000</td>\n",
       "    </tr>\n",
       "  </tbody>\n",
       "</table>\n",
       "</div>"
      ],
      "text/plain": [
       "       target   count_chars  count_words   count_sent\n",
       "count  3441.0   3441.000000  3441.000000  3441.000000\n",
       "mean      0.0    975.074688   229.881430    11.750654\n",
       "std       0.0   1393.889747   340.283774    25.635028\n",
       "min       0.0      8.000000     1.000000     1.000000\n",
       "25%       0.0    225.000000    50.000000     4.000000\n",
       "50%       0.0    520.000000   126.000000     7.000000\n",
       "75%       0.0   1235.000000   298.000000    14.000000\n",
       "max       0.0  31846.000000  8859.000000  1204.000000"
      ]
     },
     "execution_count": 52,
     "metadata": {},
     "output_type": "execute_result"
    }
   ],
   "source": [
    "df[df.target == 0].describe()"
   ]
  },
  {
   "cell_type": "code",
   "execution_count": 53,
   "id": "0ef8efda",
   "metadata": {},
   "outputs": [
    {
     "data": {
      "image/png": "[encoded data removed]",
      "text/plain": [
       "<Figure size 432x288 with 1 Axes>"
      ]
     },
     "metadata": {
      "needs_background": "light"
     },
     "output_type": "display_data"
    }
   ],
   "source": [
    "sns.histplot(df[df.target == 0].count_words)\n",
    "sns.histplot(df[df.target == 1].count_words, color='red');"
   ]
  },
  {
   "cell_type": "code",
   "execution_count": 54,
   "id": "e9f3a91f",
   "metadata": {},
   "outputs": [
    {
     "data": {
      "image/png": "[encoded data removed]",
      "text/plain": [
       "<Figure size 432x288 with 1 Axes>"
      ]
     },
     "metadata": {
      "needs_background": "light"
     },
     "output_type": "display_data"
    }
   ],
   "source": [
    "sns.histplot(df[df.target == 0].count_sent, bins=20)\n",
    "sns.histplot(df[df.target == 1].count_sent, color='red', bins=20);"
   ]
  },
  {
   "cell_type": "code",
   "execution_count": 55,
   "id": "c02f7d20",
   "metadata": {},
   "outputs": [
    {
     "data": {
      "image/png": "[encoded data removed]",
      "text/plain": [
       "<Figure size 432x288 with 1 Axes>"
      ]
     },
     "metadata": {
      "needs_background": "light"
     },
     "output_type": "display_data"
    }
   ],
   "source": [
    "sns.histplot(df[df.target == 0].count_chars, bins=40)\n",
    "sns.histplot(df[df.target == 1].count_chars, color='red', bins=40);"
   ]
  },
  {
   "cell_type": "code",
   "execution_count": 56,
   "id": "8cde4807",
   "metadata": {},
   "outputs": [
    {
     "data": {
      "text/plain": [
       "<seaborn.axisgrid.PairGrid at 0x1dc8d390220>"
      ]
     },
     "execution_count": 56,
     "metadata": {},
     "output_type": "execute_result"
    },
    {
     "data": {
      "image/png": "[encoded data removed]",
      "text/plain": [
       "<Figure size 582.375x540 with 12 Axes>"
      ]
     },
     "metadata": {
      "needs_background": "light"
     },
     "output_type": "display_data"
    }
   ],
   "source": [
    "sns.pairplot(df, hue='target')"
   ]
  },
  {
   "cell_type": "code",
   "execution_count": 57,
   "id": "66aafe1b",
   "metadata": {},
   "outputs": [
    {
     "data": {
      "text/plain": [
       "<AxesSubplot:>"
      ]
     },
     "execution_count": 57,
     "metadata": {},
     "output_type": "execute_result"
    },
    {
     "data": {
      "image/png": "[encoded data removed]",
      "text/plain": [
       "<Figure size 432x288 with 2 Axes>"
      ]
     },
     "metadata": {
      "needs_background": "light"
     },
     "output_type": "display_data"
    }
   ],
   "source": [
    "sns.heatmap(df.corr(), annot=True)"
   ]
  },
  {
   "cell_type": "markdown",
   "id": "e0f69d29",
   "metadata": {},
   "source": [
    "## Text Preprocessing\n",
    "\n",
    "- Lower case\n",
    "- Tokenization\n",
    "- Removing special charachters\n",
    "- Removing stop words and punctuations\n",
    "- Stemming"
   ]
  },
  {
   "cell_type": "code",
   "execution_count": 62,
   "id": "9fb46daf",
   "metadata": {},
   "outputs": [],
   "source": [
    "from nltk.corpus import stopwords\n",
    "# nltk.download('stopwords')"
   ]
  },
  {
   "cell_type": "code",
   "execution_count": 63,
   "id": "111d41c5",
   "metadata": {},
   "outputs": [
    {
     "data": {
      "text/plain": [
       "['i',\n",
       " 'me',\n",
       " 'my',\n",
       " 'myself',\n",
       " 'we',\n",
       " 'our',\n",
       " 'ours',\n",
       " 'ourselves',\n",
       " 'you',\n",
       " \"you're\",\n",
       " \"you've\",\n",
       " \"you'll\",\n",
       " \"you'd\",\n",
       " 'your',\n",
       " 'yours',\n",
       " 'yourself',\n",
       " 'yourselves',\n",
       " 'he',\n",
       " 'him',\n",
       " 'his',\n",
       " 'himself',\n",
       " 'she',\n",
       " \"she's\",\n",
       " 'her',\n",
       " 'hers',\n",
       " 'herself',\n",
       " 'it',\n",
       " \"it's\",\n",
       " 'its',\n",
       " 'itself',\n",
       " 'they',\n",
       " 'them',\n",
       " 'their',\n",
       " 'theirs',\n",
       " 'themselves',\n",
       " 'what',\n",
       " 'which',\n",
       " 'who',\n",
       " 'whom',\n",
       " 'this',\n",
       " 'that',\n",
       " \"that'll\",\n",
       " 'these',\n",
       " 'those',\n",
       " 'am',\n",
       " 'is',\n",
       " 'are',\n",
       " 'was',\n",
       " 'were',\n",
       " 'be',\n",
       " 'been',\n",
       " 'being',\n",
       " 'have',\n",
       " 'has',\n",
       " 'had',\n",
       " 'having',\n",
       " 'do',\n",
       " 'does',\n",
       " 'did',\n",
       " 'doing',\n",
       " 'a',\n",
       " 'an',\n",
       " 'the',\n",
       " 'and',\n",
       " 'but',\n",
       " 'if',\n",
       " 'or',\n",
       " 'because',\n",
       " 'as',\n",
       " 'until',\n",
       " 'while',\n",
       " 'of',\n",
       " 'at',\n",
       " 'by',\n",
       " 'for',\n",
       " 'with',\n",
       " 'about',\n",
       " 'against',\n",
       " 'between',\n",
       " 'into',\n",
       " 'through',\n",
       " 'during',\n",
       " 'before',\n",
       " 'after',\n",
       " 'above',\n",
       " 'below',\n",
       " 'to',\n",
       " 'from',\n",
       " 'up',\n",
       " 'down',\n",
       " 'in',\n",
       " 'out',\n",
       " 'on',\n",
       " 'off',\n",
       " 'over',\n",
       " 'under',\n",
       " 'again',\n",
       " 'further',\n",
       " 'then',\n",
       " 'once',\n",
       " 'here',\n",
       " 'there',\n",
       " 'when',\n",
       " 'where',\n",
       " 'why',\n",
       " 'how',\n",
       " 'all',\n",
       " 'any',\n",
       " 'both',\n",
       " 'each',\n",
       " 'few',\n",
       " 'more',\n",
       " 'most',\n",
       " 'other',\n",
       " 'some',\n",
       " 'such',\n",
       " 'no',\n",
       " 'nor',\n",
       " 'not',\n",
       " 'only',\n",
       " 'own',\n",
       " 'same',\n",
       " 'so',\n",
       " 'than',\n",
       " 'too',\n",
       " 'very',\n",
       " 's',\n",
       " 't',\n",
       " 'can',\n",
       " 'will',\n",
       " 'just',\n",
       " 'don',\n",
       " \"don't\",\n",
       " 'should',\n",
       " \"should've\",\n",
       " 'now',\n",
       " 'd',\n",
       " 'll',\n",
       " 'm',\n",
       " 'o',\n",
       " 're',\n",
       " 've',\n",
       " 'y',\n",
       " 'ain',\n",
       " 'aren',\n",
       " \"aren't\",\n",
       " 'couldn',\n",
       " \"couldn't\",\n",
       " 'didn',\n",
       " \"didn't\",\n",
       " 'doesn',\n",
       " \"doesn't\",\n",
       " 'hadn',\n",
       " \"hadn't\",\n",
       " 'hasn',\n",
       " \"hasn't\",\n",
       " 'haven',\n",
       " \"haven't\",\n",
       " 'isn',\n",
       " \"isn't\",\n",
       " 'ma',\n",
       " 'mightn',\n",
       " \"mightn't\",\n",
       " 'mustn',\n",
       " \"mustn't\",\n",
       " 'needn',\n",
       " \"needn't\",\n",
       " 'shan',\n",
       " \"shan't\",\n",
       " 'shouldn',\n",
       " \"shouldn't\",\n",
       " 'wasn',\n",
       " \"wasn't\",\n",
       " 'weren',\n",
       " \"weren't\",\n",
       " 'won',\n",
       " \"won't\",\n",
       " 'wouldn',\n",
       " \"wouldn't\"]"
      ]
     },
     "execution_count": 63,
     "metadata": {},
     "output_type": "execute_result"
    }
   ],
   "source": [
    "stopwords.words('english')"
   ]
  },
  {
   "cell_type": "code",
   "execution_count": 64,
   "id": "5832f311",
   "metadata": {},
   "outputs": [
    {
     "data": {
      "text/plain": [
       "'!\"#$%&\\'()*+,-./:;<=>?@[\\\\]^_`{|}~'"
      ]
     },
     "execution_count": 64,
     "metadata": {},
     "output_type": "execute_result"
    }
   ],
   "source": [
    "import string\n",
    "string.punctuation"
   ]
  },
  {
   "cell_type": "code",
   "execution_count": 65,
   "id": "5195433e",
   "metadata": {},
   "outputs": [
    {
     "data": {
      "text/plain": [
       "'love'"
      ]
     },
     "execution_count": 65,
     "metadata": {},
     "output_type": "execute_result"
    }
   ],
   "source": [
    "from nltk.stem.porter import PorterStemmer\n",
    "ps = PorterStemmer()\n",
    "ps.stem('loving')"
   ]
  },
  {
   "cell_type": "code",
   "execution_count": 66,
   "id": "c9fb4a40",
   "metadata": {},
   "outputs": [],
   "source": [
    "def transform_text(text):\n",
    "    text = text.lower()\n",
    "    text = nltk.word_tokenize(text)\n",
    "    \n",
    "    y = []\n",
    "    for word in text:\n",
    "        if (word.isalnum()) and (word not in stopwords.words('english')) and (word not in string.punctuation):\n",
    "            y.append(word)\n",
    "            \n",
    "    text = y[:]\n",
    "    y.clear()\n",
    "    \n",
    "    for i in text:\n",
    "        y.append(ps.stem(i))\n",
    "            \n",
    "    return ' '.join(y)"
   ]
  },
  {
   "cell_type": "code",
   "execution_count": 67,
   "id": "2149217f",
   "metadata": {},
   "outputs": [
    {
     "data": {
      "text/plain": [
       "'love youtub lectur machin learn'"
      ]
     },
     "execution_count": 67,
     "metadata": {},
     "output_type": "execute_result"
    }
   ],
   "source": [
    "transform_text('I loved the YouTube lecture on machine learning. How about you?')"
   ]
  },
  {
   "cell_type": "code",
   "execution_count": 68,
   "id": "3bece239",
   "metadata": {},
   "outputs": [
    {
     "data": {
      "text/plain": [
       "\"enron methanol ; meter # : 988291 this is a follow up to the note i gave you on monday , 4 / 3 / 00 { preliminary flow data provided by daren } . please override pop ' s daily volume { presently zero } to reflect daily activity you can obtain from gas control . this change is needed asap for economics purposes .\""
      ]
     },
     "execution_count": 68,
     "metadata": {},
     "output_type": "execute_result"
    }
   ],
   "source": [
    "df.text[0]"
   ]
  },
  {
   "cell_type": "code",
   "execution_count": 69,
   "id": "71d1faeb",
   "metadata": {},
   "outputs": [
    {
     "data": {
      "text/plain": [
       "'enron methanol meter 988291 follow note gave monday 4 3 00 preliminari flow data provid daren pleas overrid pop daili volum present zero reflect daili activ obtain ga control chang need asap econom purpos'"
      ]
     },
     "execution_count": 69,
     "metadata": {},
     "output_type": "execute_result"
    }
   ],
   "source": [
    "transform_text(df.text[0])"
   ]
  },
  {
   "cell_type": "code",
   "execution_count": 70,
   "id": "067d7cee",
   "metadata": {},
   "outputs": [
    {
     "data": {
      "text/html": [
       "<div>\n",
       "<style scoped>\n",
       "    .dataframe tbody tr th:only-of-type {\n",
       "        vertical-align: middle;\n",
       "    }\n",
       "\n",
       "    .dataframe tbody tr th {\n",
       "        vertical-align: top;\n",
       "    }\n",
       "\n",
       "    .dataframe thead th {\n",
       "        text-align: right;\n",
       "    }\n",
       "</style>\n",
       "<table border=\"1\" class=\"dataframe\">\n",
       "  <thead>\n",
       "    <tr style=\"text-align: right;\">\n",
       "      <th></th>\n",
       "      <th>text</th>\n",
       "      <th>target</th>\n",
       "      <th>count_chars</th>\n",
       "      <th>count_words</th>\n",
       "      <th>count_sent</th>\n",
       "      <th>transformed_text</th>\n",
       "    </tr>\n",
       "  </thead>\n",
       "  <tbody>\n",
       "    <tr>\n",
       "      <th>1547</th>\n",
       "      <td>hourly gas deals fyi . if you have any comment...</td>\n",
       "      <td>0</td>\n",
       "      <td>997</td>\n",
       "      <td>248</td>\n",
       "      <td>8</td>\n",
       "      <td>hourli ga deal fyi comment pleas get tommi for...</td>\n",
       "    </tr>\n",
       "    <tr>\n",
       "      <th>2609</th>\n",
       "      <td>holiday specials on : didrex and nasacort 60 ...</td>\n",
       "      <td>1</td>\n",
       "      <td>497</td>\n",
       "      <td>84</td>\n",
       "      <td>5</td>\n",
       "      <td>holiday special didrex nasacort 60 great produ...</td>\n",
       "    </tr>\n",
       "    <tr>\n",
       "      <th>4458</th>\n",
       "      <td>josey ranch est . - - mar . 2000 - - - - - - -...</td>\n",
       "      <td>0</td>\n",
       "      <td>891</td>\n",
       "      <td>239</td>\n",
       "      <td>9</td>\n",
       "      <td>josey ranch est mar 2000 forward susan trevino...</td>\n",
       "    </tr>\n",
       "    <tr>\n",
       "      <th>2507</th>\n",
       "      <td>homeowners - get more money in your pocket . h...</td>\n",
       "      <td>1</td>\n",
       "      <td>752</td>\n",
       "      <td>177</td>\n",
       "      <td>13</td>\n",
       "      <td>homeown get money pocket free mortgag quot 89 ...</td>\n",
       "    </tr>\n",
       "    <tr>\n",
       "      <th>430</th>\n",
       "      <td>westex documents per butch cheatham ' s reques...</td>\n",
       "      <td>0</td>\n",
       "      <td>440</td>\n",
       "      <td>86</td>\n",
       "      <td>7</td>\n",
       "      <td>westex document per butch cheatham request sen...</td>\n",
       "    </tr>\n",
       "  </tbody>\n",
       "</table>\n",
       "</div>"
      ],
      "text/plain": [
       "                                                   text  target  count_chars  \\\n",
       "1547  hourly gas deals fyi . if you have any comment...       0          997   \n",
       "2609   holiday specials on : didrex and nasacort 60 ...       1          497   \n",
       "4458  josey ranch est . - - mar . 2000 - - - - - - -...       0          891   \n",
       "2507  homeowners - get more money in your pocket . h...       1          752   \n",
       "430   westex documents per butch cheatham ' s reques...       0          440   \n",
       "\n",
       "      count_words  count_sent  \\\n",
       "1547          248           8   \n",
       "2609           84           5   \n",
       "4458          239           9   \n",
       "2507          177          13   \n",
       "430            86           7   \n",
       "\n",
       "                                       transformed_text  \n",
       "1547  hourli ga deal fyi comment pleas get tommi for...  \n",
       "2609  holiday special didrex nasacort 60 great produ...  \n",
       "4458  josey ranch est mar 2000 forward susan trevino...  \n",
       "2507  homeown get money pocket free mortgag quot 89 ...  \n",
       "430   westex document per butch cheatham request sen...  "
      ]
     },
     "execution_count": 70,
     "metadata": {},
     "output_type": "execute_result"
    }
   ],
   "source": [
    "df['transformed_text'] = df.text.apply(transform_text)\n",
    "df.sample(5)"
   ]
  },
  {
   "cell_type": "code",
   "execution_count": 71,
   "id": "df97539a",
   "metadata": {},
   "outputs": [
    {
     "data": {
      "text/plain": [
       "194720"
      ]
     },
     "execution_count": 71,
     "metadata": {},
     "output_type": "execute_result"
    }
   ],
   "source": [
    "word_corpus = []\n",
    "\n",
    "for sent in df[df.target == 1].transformed_text.tolist():\n",
    "    for word in sent.split():\n",
    "        word_corpus.append(word)\n",
    "    \n",
    "len(word_corpus)"
   ]
  },
  {
   "cell_type": "code",
   "execution_count": 72,
   "id": "19d21988",
   "metadata": {},
   "outputs": [
    {
     "data": {
      "text/plain": [
       "32993"
      ]
     },
     "execution_count": 72,
     "metadata": {},
     "output_type": "execute_result"
    }
   ],
   "source": [
    "unique_word_corpus = set(word_corpus)\n",
    "len(unique_word_corpus)"
   ]
  },
  {
   "cell_type": "code",
   "execution_count": 73,
   "id": "8d903af0",
   "metadata": {},
   "outputs": [
    {
     "data": {
      "image/png": "[encoded data removed]",
      "text/plain": [
       "<Figure size 432x288 with 1 Axes>"
      ]
     },
     "metadata": {
      "needs_background": "light"
     },
     "output_type": "display_data"
    }
   ],
   "source": [
    "from collections import Counter\n",
    "sns.barplot(pd.DataFrame(Counter(word_corpus).most_common(30))[0], pd.DataFrame(Counter(word_corpus).most_common(30))[1])\n",
    "plt.xticks(rotation='vertical')\n",
    "plt.show()"
   ]
  },
  {
   "cell_type": "code",
   "execution_count": 74,
   "id": "61ab2c78",
   "metadata": {},
   "outputs": [
    {
     "data": {
      "text/plain": [
       "369974"
      ]
     },
     "execution_count": 74,
     "metadata": {},
     "output_type": "execute_result"
    }
   ],
   "source": [
    "ham_corpus = []\n",
    "\n",
    "for sent in df[df.target == 0].transformed_text.tolist():\n",
    "    for word in sent.split():\n",
    "        ham_corpus.append(word)\n",
    "    \n",
    "len(ham_corpus)"
   ]
  },
  {
   "cell_type": "code",
   "execution_count": 75,
   "id": "004b9a80",
   "metadata": {},
   "outputs": [
    {
     "data": {
      "text/plain": [
       "16354"
      ]
     },
     "execution_count": 75,
     "metadata": {},
     "output_type": "execute_result"
    }
   ],
   "source": [
    "unique_ham_corpus = set(ham_corpus)\n",
    "len(unique_ham_corpus)"
   ]
  },
  {
   "cell_type": "code",
   "execution_count": 76,
   "id": "169ab02a",
   "metadata": {},
   "outputs": [
    {
     "data": {
      "image/png": "[encoded data removed]",
      "text/plain": [
       "<Figure size 432x288 with 1 Axes>"
      ]
     },
     "metadata": {
      "needs_background": "light"
     },
     "output_type": "display_data"
    }
   ],
   "source": [
    "from collections import Counter\n",
    "sns.barplot(pd.DataFrame(Counter(ham_corpus).most_common(30))[0], pd.DataFrame(Counter(ham_corpus).most_common(30))[1])\n",
    "plt.xticks(rotation='vertical')\n",
    "plt.show()"
   ]
  },
  {
   "cell_type": "markdown",
   "id": "d6218385",
   "metadata": {},
   "source": [
    "# Model Building"
   ]
  },
  {
   "cell_type": "markdown",
   "id": "d5915715",
   "metadata": {},
   "source": [
    "### Bag Of Words"
   ]
  },
  {
   "cell_type": "code",
   "execution_count": 77,
   "id": "371de518",
   "metadata": {},
   "outputs": [],
   "source": [
    "from sklearn.feature_extraction.text import CountVectorizer, TfidfVectorizer\n",
    "cv = CountVectorizer()"
   ]
  },
  {
   "cell_type": "code",
   "execution_count": 78,
   "id": "491cd9b2",
   "metadata": {},
   "outputs": [
    {
     "data": {
      "text/plain": [
       "(4901, 42592)"
      ]
     },
     "execution_count": 78,
     "metadata": {},
     "output_type": "execute_result"
    }
   ],
   "source": [
    "X = cv.fit_transform(df.transformed_text).toarray()\n",
    "X.shape"
   ]
  },
  {
   "cell_type": "code",
   "execution_count": 79,
   "id": "60142baa",
   "metadata": {},
   "outputs": [
    {
     "data": {
      "text/plain": [
       "(4901,)"
      ]
     },
     "execution_count": 79,
     "metadata": {},
     "output_type": "execute_result"
    }
   ],
   "source": [
    "y = df.target\n",
    "y.shape"
   ]
  },
  {
   "cell_type": "code",
   "execution_count": 80,
   "id": "13148106",
   "metadata": {},
   "outputs": [
    {
     "data": {
      "text/plain": [
       "(((3920, 42592), (3920,)), ((981, 42592), (981,)))"
      ]
     },
     "execution_count": 80,
     "metadata": {},
     "output_type": "execute_result"
    }
   ],
   "source": [
    "from sklearn.model_selection import train_test_split\n",
    "X_train, X_test, y_train, y_test = train_test_split(X, y, test_size=0.2, random_state=42)\n",
    "(X_train.shape, y_train.shape), (X_test.shape, y_test.shape)"
   ]
  },
  {
   "cell_type": "code",
   "execution_count": 81,
   "id": "1c27c8ef",
   "metadata": {},
   "outputs": [],
   "source": [
    "from sklearn.naive_bayes import GaussianNB, MultinomialNB, BernoulliNB\n",
    "from sklearn.metrics import accuracy_score, confusion_matrix, precision_score\n",
    "\n",
    "gnb = GaussianNB()\n",
    "mnb = MultinomialNB()\n",
    "bnb = BernoulliNB()"
   ]
  },
  {
   "cell_type": "code",
   "execution_count": 82,
   "id": "a1269e63",
   "metadata": {},
   "outputs": [
    {
     "name": "stdout",
     "output_type": "stream",
     "text": [
      "0.9877551020408163 0.9582059123343527\n",
      "0.9582059123343527\n",
      "0.9016949152542373\n"
     ]
    },
    {
     "data": {
      "text/plain": [
       "<AxesSubplot:>"
      ]
     },
     "execution_count": 82,
     "metadata": {},
     "output_type": "execute_result"
    },
    {
     "data": {
      "image/png": "[encoded data removed]",
      "text/plain": [
       "<Figure size 432x288 with 2 Axes>"
      ]
     },
     "metadata": {
      "needs_background": "light"
     },
     "output_type": "display_data"
    }
   ],
   "source": [
    "gnb.fit(X_train, y_train)\n",
    "preds = gnb.predict(X_test)\n",
    "print(gnb.score(X_train, y_train), gnb.score(X_test, y_test))\n",
    "\n",
    "print(accuracy_score(preds, y_test))\n",
    "print(precision_score(preds, y_test))\n",
    "cm = confusion_matrix(preds, y_test)\n",
    "sns.heatmap(cm, annot=True, fmt='d')"
   ]
  },
  {
   "cell_type": "code",
   "execution_count": 83,
   "id": "1eba52c7",
   "metadata": {},
   "outputs": [
    {
     "name": "stdout",
     "output_type": "stream",
     "text": [
      "0.9880102040816326 0.9836901121304791\n",
      "0.9836901121304791\n",
      "0.9830508474576272\n"
     ]
    },
    {
     "data": {
      "text/plain": [
       "<AxesSubplot:>"
      ]
     },
     "execution_count": 83,
     "metadata": {},
     "output_type": "execute_result"
    },
    {
     "data": {
      "image/png": "[encoded data removed]",
      "text/plain": [
       "<Figure size 432x288 with 2 Axes>"
      ]
     },
     "metadata": {
      "needs_background": "light"
     },
     "output_type": "display_data"
    }
   ],
   "source": [
    "mnb.fit(X_train, y_train)\n",
    "preds2 = mnb.predict(X_test)\n",
    "print(mnb.score(X_train, y_train), mnb.score(X_test, y_test))\n",
    "\n",
    "print(accuracy_score(preds2, y_test))\n",
    "print(precision_score(preds2, y_test))\n",
    "cm2 = confusion_matrix(preds2, y_test)\n",
    "sns.heatmap(cm2, annot=True, fmt='d')"
   ]
  },
  {
   "cell_type": "code",
   "execution_count": 84,
   "id": "fb4164d9",
   "metadata": {},
   "outputs": [
    {
     "name": "stdout",
     "output_type": "stream",
     "text": [
      "0.8798469387755102 0.8634046890927625\n",
      "0.8634046890927625\n",
      "0.5966101694915255\n"
     ]
    },
    {
     "data": {
      "text/plain": [
       "<AxesSubplot:>"
      ]
     },
     "execution_count": 84,
     "metadata": {},
     "output_type": "execute_result"
    },
    {
     "data": {
      "image/png": "[encoded data removed]",
      "text/plain": [
       "<Figure size 432x288 with 2 Axes>"
      ]
     },
     "metadata": {
      "needs_background": "light"
     },
     "output_type": "display_data"
    }
   ],
   "source": [
    "bnb.fit(X_train, y_train)\n",
    "preds3 = bnb.predict(X_test)\n",
    "print(bnb.score(X_train, y_train), bnb.score(X_test, y_test))\n",
    "\n",
    "print(accuracy_score(preds3, y_test))\n",
    "print(precision_score(preds3, y_test))\n",
    "cm3 = confusion_matrix(preds3, y_test)\n",
    "sns.heatmap(cm3, annot=True, fmt='d')"
   ]
  },
  {
   "cell_type": "markdown",
   "id": "4d98a84e",
   "metadata": {},
   "source": [
    "### Using tfidf"
   ]
  },
  {
   "cell_type": "code",
   "execution_count": 85,
   "id": "fd820b3b",
   "metadata": {},
   "outputs": [
    {
     "data": {
      "text/plain": [
       "((4901, 42592), (4901,))"
      ]
     },
     "execution_count": 85,
     "metadata": {},
     "output_type": "execute_result"
    }
   ],
   "source": [
    "tfidf = TfidfVectorizer()\n",
    "\n",
    "X = tfidf.fit_transform(df.transformed_text).toarray()\n",
    "y = df.target\n",
    "X.shape, y.shape"
   ]
  },
  {
   "cell_type": "code",
   "execution_count": 86,
   "id": "0b6b0db5",
   "metadata": {},
   "outputs": [
    {
     "data": {
      "text/plain": [
       "(((3920, 42592), (3920,)), ((981, 42592), (981,)))"
      ]
     },
     "execution_count": 86,
     "metadata": {},
     "output_type": "execute_result"
    }
   ],
   "source": [
    "from sklearn.model_selection import train_test_split\n",
    "X_train, X_test, y_train, y_test = train_test_split(X, y, test_size=0.2, random_state=42)\n",
    "(X_train.shape, y_train.shape), (X_test.shape, y_test.shape)"
   ]
  },
  {
   "cell_type": "code",
   "execution_count": 87,
   "id": "80759fbb",
   "metadata": {},
   "outputs": [],
   "source": [
    "from sklearn.naive_bayes import GaussianNB, MultinomialNB, BernoulliNB\n",
    "from sklearn.metrics import accuracy_score, confusion_matrix, precision_score\n",
    "\n",
    "gnb2 = GaussianNB()\n",
    "mnb2 = MultinomialNB()\n",
    "bnb2 = BernoulliNB()"
   ]
  },
  {
   "cell_type": "code",
   "execution_count": 88,
   "id": "650cfcf9",
   "metadata": {},
   "outputs": [
    {
     "name": "stdout",
     "output_type": "stream",
     "text": [
      "0.9905612244897959 0.9469928644240571\n",
      "0.9469928644240571\n",
      "0.911864406779661\n"
     ]
    },
    {
     "data": {
      "text/plain": [
       "<AxesSubplot:>"
      ]
     },
     "execution_count": 88,
     "metadata": {},
     "output_type": "execute_result"
    },
    {
     "data": {
      "image/png": "[encoded data removed]",
      "text/plain": [
       "<Figure size 432x288 with 2 Axes>"
      ]
     },
     "metadata": {
      "needs_background": "light"
     },
     "output_type": "display_data"
    }
   ],
   "source": [
    "gnb2.fit(X_train, y_train)\n",
    "preds = gnb2.predict(X_test)\n",
    "print(gnb2.score(X_train, y_train), gnb2.score(X_test, y_test))\n",
    "\n",
    "print(accuracy_score(preds, y_test))\n",
    "print(precision_score(preds, y_test))\n",
    "cm = confusion_matrix(preds, y_test)\n",
    "sns.heatmap(cm, annot=True, fmt='d')"
   ]
  },
  {
   "cell_type": "code",
   "execution_count": 89,
   "id": "472c5535",
   "metadata": {},
   "outputs": [
    {
     "name": "stdout",
     "output_type": "stream",
     "text": [
      "0.8798469387755102 0.8634046890927625\n",
      "0.8634046890927625\n",
      "0.5966101694915255\n"
     ]
    },
    {
     "data": {
      "text/plain": [
       "<AxesSubplot:>"
      ]
     },
     "execution_count": 89,
     "metadata": {},
     "output_type": "execute_result"
    },
    {
     "data": {
      "image/png": "[encoded data removed]",
      "text/plain": [
       "<Figure size 432x288 with 2 Axes>"
      ]
     },
     "metadata": {
      "needs_background": "light"
     },
     "output_type": "display_data"
    }
   ],
   "source": [
    "bnb2.fit(X_train, y_train)\n",
    "preds3 = bnb2.predict(X_test)\n",
    "print(bnb2.score(X_train, y_train), bnb2.score(X_test, y_test))\n",
    "\n",
    "print(accuracy_score(preds3, y_test))\n",
    "print(precision_score(preds3, y_test))\n",
    "cm3 = confusion_matrix(preds3, y_test)\n",
    "sns.heatmap(cm3, annot=True, fmt='d')"
   ]
  },
  {
   "cell_type": "code",
   "execution_count": 90,
   "id": "98af04bf",
   "metadata": {},
   "outputs": [
    {
     "name": "stdout",
     "output_type": "stream",
     "text": [
      "0.9543367346938776 0.9184505606523955\n",
      "0.9184505606523955\n",
      "0.735593220338983\n"
     ]
    },
    {
     "data": {
      "text/plain": [
       "<AxesSubplot:>"
      ]
     },
     "execution_count": 90,
     "metadata": {},
     "output_type": "execute_result"
    },
    {
     "data": {
      "image/png": "[encoded data removed]",
      "text/plain": [
       "<Figure size 432x288 with 2 Axes>"
      ]
     },
     "metadata": {
      "needs_background": "light"
     },
     "output_type": "display_data"
    }
   ],
   "source": [
    "mnb2.fit(X_train, y_train)\n",
    "preds2 = mnb2.predict(X_test)\n",
    "print(mnb2.score(X_train, y_train), mnb2.score(X_test, y_test))\n",
    "\n",
    "print(accuracy_score(preds2, y_test))\n",
    "print(precision_score(preds2, y_test))\n",
    "cm2 = confusion_matrix(preds2, y_test)\n",
    "sns.heatmap(cm2, annot=True, fmt='d')"
   ]
  },
  {
   "cell_type": "code",
   "execution_count": 91,
   "id": "7b8faaac",
   "metadata": {},
   "outputs": [],
   "source": [
    "import pickle\n",
    "pickle.dump(cv, open('bagofWords.pkl', 'wb'))\n",
    "pickle.dump(mnb, open('MNBmodel.pkl', 'wb'))"
   ]
  },
  {
   "cell_type": "code",
   "execution_count": 96,
   "id": "c8f315d7",
   "metadata": {},
   "outputs": [
    {
     "name": "stdout",
     "output_type": "stream",
     "text": [
      "(1, 42592)\n"
     ]
    },
    {
     "data": {
      "text/plain": [
       "1"
      ]
     },
     "execution_count": 96,
     "metadata": {},
     "output_type": "execute_result"
    }
   ],
   "source": [
    "text = \"Notifications involving money owed to you are enticing, arent they? Our records show that you overpaid for (a product or service). Kindly supply your bank routing and account number to receive your refund. Don't fall for it.\"\n",
    "\n",
    "txt = transform_text(text)\n",
    "txt = cv.transform([txt])\n",
    "print(txt.shape)\n",
    "\n",
    "mnb.predict(txt)[0]"
   ]
  },
  {
   "cell_type": "code",
   "execution_count": null,
   "id": "3fffe37a",
   "metadata": {},
   "outputs": [],
   "source": []
  }
 ],
 "metadata": {
  "kernelspec": {
   "display_name": "Python 3 (ipykernel)",
   "language": "python",
   "name": "python3"
  },
  "language_info": {
   "codemirror_mode": {
    "name": "ipython",
    "version": 3
   },
   "file_extension": ".py",
   "mimetype": "text/x-python",
   "name": "python",
   "nbconvert_exporter": "python",
   "pygments_lexer": "ipython3",
   "version": "3.9.7"
  }
 },
 "nbformat": 4,
 "nbformat_minor": 5
}
